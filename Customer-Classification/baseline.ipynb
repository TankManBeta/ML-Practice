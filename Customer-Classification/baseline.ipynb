{
 "cells": [
  {
   "cell_type": "markdown",
   "metadata": {},
   "source": [
    "# 导入使用的库"
   ]
  },
  {
   "cell_type": "code",
   "execution_count": 1,
   "metadata": {},
   "outputs": [],
   "source": [
    "import pandas as pd\n",
    "import numpy as np\n",
    "import matplotlib.pyplot as plt\n",
    "from mpl_toolkits.mplot3d import Axes3D\n",
    "import copy"
   ]
  },
  {
   "cell_type": "markdown",
   "metadata": {},
   "source": [
    "# 读入数据"
   ]
  },
  {
   "cell_type": "code",
   "execution_count": 2,
   "metadata": {},
   "outputs": [],
   "source": [
    "df_sales = pd.read_csv(r'./sales.csv')\n",
    "df_products = pd.read_csv(r'./products.csv')"
   ]
  },
  {
   "cell_type": "markdown",
   "metadata": {},
   "source": [
    "# 查看表的信息"
   ]
  },
  {
   "cell_type": "code",
   "execution_count": 3,
   "metadata": {},
   "outputs": [
    {
     "name": "stdout",
     "output_type": "stream",
     "text": [
      "<class 'pandas.core.frame.DataFrame'>\n",
      "RangeIndex: 90718 entries, 0 to 90717\n",
      "Data columns (total 3 columns):\n",
      " #   Column        Non-Null Count  Dtype \n",
      "---  ------        --------------  ----- \n",
      " 0   user_code     90718 non-null  object\n",
      " 1   product_code  90718 non-null  object\n",
      " 2   price         90718 non-null  int64 \n",
      "dtypes: int64(1), object(2)\n",
      "memory usage: 2.1+ MB\n"
     ]
    }
   ],
   "source": [
    "df_sales.info()"
   ]
  },
  {
   "cell_type": "code",
   "execution_count": 4,
   "metadata": {},
   "outputs": [
    {
     "name": "stdout",
     "output_type": "stream",
     "text": [
      "<class 'pandas.core.frame.DataFrame'>\n",
      "RangeIndex: 95 entries, 0 to 94\n",
      "Data columns (total 3 columns):\n",
      " #   Column        Non-Null Count  Dtype \n",
      "---  ------        --------------  ----- \n",
      " 0   product_code  95 non-null     object\n",
      " 1   product_type  95 non-null     object\n",
      " 2   price         95 non-null     int64 \n",
      "dtypes: int64(1), object(2)\n",
      "memory usage: 2.4+ KB\n"
     ]
    }
   ],
   "source": [
    "df_products.info()"
   ]
  },
  {
   "cell_type": "markdown",
   "metadata": {},
   "source": [
    "# 归一化价格"
   ]
  },
  {
   "cell_type": "markdown",
   "metadata": {},
   "source": [
    "## 统计价格最大值最小值"
   ]
  },
  {
   "cell_type": "code",
   "execution_count": 5,
   "metadata": {},
   "outputs": [
    {
     "data": {
      "text/html": [
       "<div>\n",
       "<style scoped>\n",
       "    .dataframe tbody tr th:only-of-type {\n",
       "        vertical-align: middle;\n",
       "    }\n",
       "\n",
       "    .dataframe tbody tr th {\n",
       "        vertical-align: top;\n",
       "    }\n",
       "\n",
       "    .dataframe thead th {\n",
       "        text-align: right;\n",
       "    }\n",
       "</style>\n",
       "<table border=\"1\" class=\"dataframe\">\n",
       "  <thead>\n",
       "    <tr style=\"text-align: right;\">\n",
       "      <th></th>\n",
       "      <th>product_type</th>\n",
       "      <th>max_price</th>\n",
       "      <th>min_price</th>\n",
       "    </tr>\n",
       "  </thead>\n",
       "  <tbody>\n",
       "    <tr>\n",
       "      <th>0</th>\n",
       "      <td>D0001</td>\n",
       "      <td>149000</td>\n",
       "      <td>13400</td>\n",
       "    </tr>\n",
       "    <tr>\n",
       "      <th>1</th>\n",
       "      <td>D0002</td>\n",
       "      <td>52500</td>\n",
       "      <td>14900</td>\n",
       "    </tr>\n",
       "    <tr>\n",
       "      <th>2</th>\n",
       "      <td>D0003</td>\n",
       "      <td>3490</td>\n",
       "      <td>1088</td>\n",
       "    </tr>\n",
       "    <tr>\n",
       "      <th>3</th>\n",
       "      <td>D0004</td>\n",
       "      <td>39900</td>\n",
       "      <td>1980</td>\n",
       "    </tr>\n",
       "    <tr>\n",
       "      <th>4</th>\n",
       "      <td>D0005</td>\n",
       "      <td>8888</td>\n",
       "      <td>2788</td>\n",
       "    </tr>\n",
       "  </tbody>\n",
       "</table>\n",
       "</div>"
      ],
      "text/plain": [
       "  product_type  max_price  min_price\n",
       "0        D0001     149000      13400\n",
       "1        D0002      52500      14900\n",
       "2        D0003       3490       1088\n",
       "3        D0004      39900       1980\n",
       "4        D0005       8888       2788"
      ]
     },
     "execution_count": 5,
     "metadata": {},
     "output_type": "execute_result"
    }
   ],
   "source": [
    "total_product = df_products.groupby(\"product_type\")\n",
    "max_price = total_product[\"price\"].max()\n",
    "min_price = total_product[\"price\"].min()\n",
    "df_max_price = pd.DataFrame({'product_type':max_price.index,'max_price':max_price.values})\n",
    "df_min_price = pd.DataFrame({'product_type':min_price.index,'min_price':min_price.values})\n",
    "df_price = pd.merge(df_max_price, df_min_price, how=\"left\", on=\"product_type\")\n",
    "new_df_products = pd.merge(df_products, df_price, how=\"left\", on=\"product_type\")\n",
    "df_price.head()\n"
   ]
  },
  {
   "cell_type": "code",
   "execution_count": 6,
   "metadata": {},
   "outputs": [
    {
     "data": {
      "text/html": [
       "<div>\n",
       "<style scoped>\n",
       "    .dataframe tbody tr th:only-of-type {\n",
       "        vertical-align: middle;\n",
       "    }\n",
       "\n",
       "    .dataframe tbody tr th {\n",
       "        vertical-align: top;\n",
       "    }\n",
       "\n",
       "    .dataframe thead th {\n",
       "        text-align: right;\n",
       "    }\n",
       "</style>\n",
       "<table border=\"1\" class=\"dataframe\">\n",
       "  <thead>\n",
       "    <tr style=\"text-align: right;\">\n",
       "      <th></th>\n",
       "      <th>product_code</th>\n",
       "      <th>product_type</th>\n",
       "      <th>price</th>\n",
       "      <th>max_price</th>\n",
       "      <th>min_price</th>\n",
       "    </tr>\n",
       "  </thead>\n",
       "  <tbody>\n",
       "    <tr>\n",
       "      <th>0</th>\n",
       "      <td>SPct0001</td>\n",
       "      <td>D0001</td>\n",
       "      <td>22888</td>\n",
       "      <td>149000</td>\n",
       "      <td>13400</td>\n",
       "    </tr>\n",
       "    <tr>\n",
       "      <th>1</th>\n",
       "      <td>SPct0002</td>\n",
       "      <td>D0001</td>\n",
       "      <td>149000</td>\n",
       "      <td>149000</td>\n",
       "      <td>13400</td>\n",
       "    </tr>\n",
       "    <tr>\n",
       "      <th>2</th>\n",
       "      <td>SPct0003</td>\n",
       "      <td>D0001</td>\n",
       "      <td>89900</td>\n",
       "      <td>149000</td>\n",
       "      <td>13400</td>\n",
       "    </tr>\n",
       "    <tr>\n",
       "      <th>3</th>\n",
       "      <td>SPct0004</td>\n",
       "      <td>D0001</td>\n",
       "      <td>38490</td>\n",
       "      <td>149000</td>\n",
       "      <td>13400</td>\n",
       "    </tr>\n",
       "    <tr>\n",
       "      <th>4</th>\n",
       "      <td>SPct0005</td>\n",
       "      <td>D0001</td>\n",
       "      <td>13400</td>\n",
       "      <td>149000</td>\n",
       "      <td>13400</td>\n",
       "    </tr>\n",
       "  </tbody>\n",
       "</table>\n",
       "</div>"
      ],
      "text/plain": [
       "  product_code product_type   price  max_price  min_price\n",
       "0     SPct0001        D0001   22888     149000      13400\n",
       "1     SPct0002        D0001  149000     149000      13400\n",
       "2     SPct0003        D0001   89900     149000      13400\n",
       "3     SPct0004        D0001   38490     149000      13400\n",
       "4     SPct0005        D0001   13400     149000      13400"
      ]
     },
     "execution_count": 6,
     "metadata": {},
     "output_type": "execute_result"
    }
   ],
   "source": [
    "new_df_products.head()"
   ]
  },
  {
   "cell_type": "markdown",
   "metadata": {},
   "source": [
    "## 归一化"
   ]
  },
  {
   "cell_type": "code",
   "execution_count": 7,
   "metadata": {},
   "outputs": [
    {
     "data": {
      "text/html": [
       "<div>\n",
       "<style scoped>\n",
       "    .dataframe tbody tr th:only-of-type {\n",
       "        vertical-align: middle;\n",
       "    }\n",
       "\n",
       "    .dataframe tbody tr th {\n",
       "        vertical-align: top;\n",
       "    }\n",
       "\n",
       "    .dataframe thead th {\n",
       "        text-align: right;\n",
       "    }\n",
       "</style>\n",
       "<table border=\"1\" class=\"dataframe\">\n",
       "  <thead>\n",
       "    <tr style=\"text-align: right;\">\n",
       "      <th></th>\n",
       "      <th>product_code</th>\n",
       "      <th>product_type</th>\n",
       "      <th>price</th>\n",
       "      <th>normalization</th>\n",
       "    </tr>\n",
       "  </thead>\n",
       "  <tbody>\n",
       "    <tr>\n",
       "      <th>0</th>\n",
       "      <td>SPct0001</td>\n",
       "      <td>D0001</td>\n",
       "      <td>22888</td>\n",
       "      <td>0.069971</td>\n",
       "    </tr>\n",
       "    <tr>\n",
       "      <th>1</th>\n",
       "      <td>SPct0002</td>\n",
       "      <td>D0001</td>\n",
       "      <td>149000</td>\n",
       "      <td>1.000000</td>\n",
       "    </tr>\n",
       "    <tr>\n",
       "      <th>2</th>\n",
       "      <td>SPct0003</td>\n",
       "      <td>D0001</td>\n",
       "      <td>89900</td>\n",
       "      <td>0.564159</td>\n",
       "    </tr>\n",
       "    <tr>\n",
       "      <th>3</th>\n",
       "      <td>SPct0004</td>\n",
       "      <td>D0001</td>\n",
       "      <td>38490</td>\n",
       "      <td>0.185029</td>\n",
       "    </tr>\n",
       "    <tr>\n",
       "      <th>4</th>\n",
       "      <td>SPct0005</td>\n",
       "      <td>D0001</td>\n",
       "      <td>13400</td>\n",
       "      <td>0.000000</td>\n",
       "    </tr>\n",
       "  </tbody>\n",
       "</table>\n",
       "</div>"
      ],
      "text/plain": [
       "  product_code product_type   price  normalization\n",
       "0     SPct0001        D0001   22888       0.069971\n",
       "1     SPct0002        D0001  149000       1.000000\n",
       "2     SPct0003        D0001   89900       0.564159\n",
       "3     SPct0004        D0001   38490       0.185029\n",
       "4     SPct0005        D0001   13400       0.000000"
      ]
     },
     "execution_count": 7,
     "metadata": {},
     "output_type": "execute_result"
    }
   ],
   "source": [
    "new_df_products[\"normalization\"] = (new_df_products[\"price\"]-new_df_products[\"min_price\"])/(new_df_products[\"max_price\"]-new_df_products[\"min_price\"])\n",
    "del new_df_products[\"max_price\"], new_df_products[\"min_price\"]\n",
    "new_df_products.head()"
   ]
  },
  {
   "cell_type": "markdown",
   "metadata": {},
   "source": [
    "# 统计顾客买各种价位产品的数量"
   ]
  },
  {
   "cell_type": "code",
   "execution_count": 8,
   "metadata": {},
   "outputs": [
    {
     "data": {
      "text/html": [
       "<div>\n",
       "<style scoped>\n",
       "    .dataframe tbody tr th:only-of-type {\n",
       "        vertical-align: middle;\n",
       "    }\n",
       "\n",
       "    .dataframe tbody tr th {\n",
       "        vertical-align: top;\n",
       "    }\n",
       "\n",
       "    .dataframe thead th {\n",
       "        text-align: right;\n",
       "    }\n",
       "</style>\n",
       "<table border=\"1\" class=\"dataframe\">\n",
       "  <thead>\n",
       "    <tr style=\"text-align: right;\">\n",
       "      <th></th>\n",
       "      <th>user_code</th>\n",
       "      <th>product_code</th>\n",
       "      <th>price_x</th>\n",
       "      <th>product_type</th>\n",
       "      <th>price_y</th>\n",
       "      <th>normalization</th>\n",
       "    </tr>\n",
       "  </thead>\n",
       "  <tbody>\n",
       "    <tr>\n",
       "      <th>0</th>\n",
       "      <td>Ben00001</td>\n",
       "      <td>SPct0051</td>\n",
       "      <td>3590</td>\n",
       "      <td>D0011</td>\n",
       "      <td>3590</td>\n",
       "      <td>0.362319</td>\n",
       "    </tr>\n",
       "    <tr>\n",
       "      <th>1</th>\n",
       "      <td>Ben00001</td>\n",
       "      <td>SPct0051</td>\n",
       "      <td>3590</td>\n",
       "      <td>D0011</td>\n",
       "      <td>3590</td>\n",
       "      <td>0.362319</td>\n",
       "    </tr>\n",
       "    <tr>\n",
       "      <th>2</th>\n",
       "      <td>Ben00001</td>\n",
       "      <td>SPct0054</td>\n",
       "      <td>28500</td>\n",
       "      <td>D0009</td>\n",
       "      <td>28500</td>\n",
       "      <td>1.000000</td>\n",
       "    </tr>\n",
       "    <tr>\n",
       "      <th>3</th>\n",
       "      <td>Ben00001</td>\n",
       "      <td>SPct0073</td>\n",
       "      <td>1380</td>\n",
       "      <td>D0006</td>\n",
       "      <td>1380</td>\n",
       "      <td>0.000000</td>\n",
       "    </tr>\n",
       "    <tr>\n",
       "      <th>4</th>\n",
       "      <td>Ben00001</td>\n",
       "      <td>SPct0064</td>\n",
       "      <td>3790</td>\n",
       "      <td>D0010</td>\n",
       "      <td>3790</td>\n",
       "      <td>0.102912</td>\n",
       "    </tr>\n",
       "    <tr>\n",
       "      <th>...</th>\n",
       "      <td>...</td>\n",
       "      <td>...</td>\n",
       "      <td>...</td>\n",
       "      <td>...</td>\n",
       "      <td>...</td>\n",
       "      <td>...</td>\n",
       "    </tr>\n",
       "    <tr>\n",
       "      <th>90713</th>\n",
       "      <td>Ben09206</td>\n",
       "      <td>SPct0018</td>\n",
       "      <td>30900</td>\n",
       "      <td>D0007</td>\n",
       "      <td>30900</td>\n",
       "      <td>0.424968</td>\n",
       "    </tr>\n",
       "    <tr>\n",
       "      <th>90714</th>\n",
       "      <td>Ben09206</td>\n",
       "      <td>SPct0082</td>\n",
       "      <td>1088</td>\n",
       "      <td>D0003</td>\n",
       "      <td>1088</td>\n",
       "      <td>0.000000</td>\n",
       "    </tr>\n",
       "    <tr>\n",
       "      <th>90715</th>\n",
       "      <td>Ben09206</td>\n",
       "      <td>SPct0073</td>\n",
       "      <td>1380</td>\n",
       "      <td>D0006</td>\n",
       "      <td>1380</td>\n",
       "      <td>0.000000</td>\n",
       "    </tr>\n",
       "    <tr>\n",
       "      <th>90716</th>\n",
       "      <td>Ben09206</td>\n",
       "      <td>SPct0003</td>\n",
       "      <td>89900</td>\n",
       "      <td>D0001</td>\n",
       "      <td>89900</td>\n",
       "      <td>0.564159</td>\n",
       "    </tr>\n",
       "    <tr>\n",
       "      <th>90717</th>\n",
       "      <td>Ben09206</td>\n",
       "      <td>SPct0043</td>\n",
       "      <td>3650</td>\n",
       "      <td>D0011</td>\n",
       "      <td>3650</td>\n",
       "      <td>0.371014</td>\n",
       "    </tr>\n",
       "  </tbody>\n",
       "</table>\n",
       "<p>90718 rows × 6 columns</p>\n",
       "</div>"
      ],
      "text/plain": [
       "      user_code product_code  price_x product_type  price_y  normalization\n",
       "0      Ben00001     SPct0051     3590        D0011     3590       0.362319\n",
       "1      Ben00001     SPct0051     3590        D0011     3590       0.362319\n",
       "2      Ben00001     SPct0054    28500        D0009    28500       1.000000\n",
       "3      Ben00001     SPct0073     1380        D0006     1380       0.000000\n",
       "4      Ben00001     SPct0064     3790        D0010     3790       0.102912\n",
       "...         ...          ...      ...          ...      ...            ...\n",
       "90713  Ben09206     SPct0018    30900        D0007    30900       0.424968\n",
       "90714  Ben09206     SPct0082     1088        D0003     1088       0.000000\n",
       "90715  Ben09206     SPct0073     1380        D0006     1380       0.000000\n",
       "90716  Ben09206     SPct0003    89900        D0001    89900       0.564159\n",
       "90717  Ben09206     SPct0043     3650        D0011     3650       0.371014\n",
       "\n",
       "[90718 rows x 6 columns]"
      ]
     },
     "execution_count": 8,
     "metadata": {},
     "output_type": "execute_result"
    }
   ],
   "source": [
    "df_sales_products = pd.merge(df_sales, new_df_products, how=\"left\", on=\"product_code\")\n",
    "df_sales_products"
   ]
  },
  {
   "cell_type": "markdown",
   "metadata": {},
   "source": [
    "## 低端产品"
   ]
  },
  {
   "cell_type": "code",
   "execution_count": 9,
   "metadata": {},
   "outputs": [],
   "source": [
    "df_low_cost = df_sales_products[(df_sales_products[\"normalization\"]<=0.333333)]\n",
    "df_low_cost_count = df_low_cost.groupby([df_low_cost[\"user_code\"]]).size().reset_index(name='low_cost_counts')"
   ]
  },
  {
   "cell_type": "markdown",
   "metadata": {},
   "source": [
    "# 中端产品"
   ]
  },
  {
   "cell_type": "code",
   "execution_count": 10,
   "metadata": {},
   "outputs": [],
   "source": [
    "df_medium_cost = df_sales_products[(df_sales_products[\"normalization\"]>0.333333)&(df_sales_products[\"normalization\"]<=0.666667)]\n",
    "df_medium_cost_count = df_medium_cost.groupby([df_medium_cost[\"user_code\"]]).size().reset_index(name='medium_cost_counts')"
   ]
  },
  {
   "cell_type": "markdown",
   "metadata": {},
   "source": [
    "## 高端产品"
   ]
  },
  {
   "cell_type": "code",
   "execution_count": 11,
   "metadata": {},
   "outputs": [],
   "source": [
    "df_high_cost = df_sales_products[(df_sales_products[\"normalization\"]>0.666667)&(df_sales_products[\"normalization\"]<=1.000000)]\n",
    "df_high_cost_count = df_high_cost.groupby([df_high_cost[\"user_code\"]]).size().reset_index(name='high_cost_counts')"
   ]
  },
  {
   "cell_type": "markdown",
   "metadata": {},
   "source": [
    "## 合并统计数据"
   ]
  },
  {
   "cell_type": "code",
   "execution_count": 12,
   "metadata": {},
   "outputs": [
    {
     "data": {
      "text/html": [
       "<div>\n",
       "<style scoped>\n",
       "    .dataframe tbody tr th:only-of-type {\n",
       "        vertical-align: middle;\n",
       "    }\n",
       "\n",
       "    .dataframe tbody tr th {\n",
       "        vertical-align: top;\n",
       "    }\n",
       "\n",
       "    .dataframe thead th {\n",
       "        text-align: right;\n",
       "    }\n",
       "</style>\n",
       "<table border=\"1\" class=\"dataframe\">\n",
       "  <thead>\n",
       "    <tr style=\"text-align: right;\">\n",
       "      <th></th>\n",
       "      <th>user_code</th>\n",
       "      <th>low_cost_counts</th>\n",
       "      <th>medium_cost_counts</th>\n",
       "      <th>high_cost_counts</th>\n",
       "    </tr>\n",
       "  </thead>\n",
       "  <tbody>\n",
       "    <tr>\n",
       "      <th>0</th>\n",
       "      <td>Ben00001</td>\n",
       "      <td>4</td>\n",
       "      <td>2</td>\n",
       "      <td>1</td>\n",
       "    </tr>\n",
       "    <tr>\n",
       "      <th>1</th>\n",
       "      <td>Ben00002</td>\n",
       "      <td>7</td>\n",
       "      <td>2</td>\n",
       "      <td>0</td>\n",
       "    </tr>\n",
       "    <tr>\n",
       "      <th>2</th>\n",
       "      <td>Ben00003</td>\n",
       "      <td>8</td>\n",
       "      <td>1</td>\n",
       "      <td>5</td>\n",
       "    </tr>\n",
       "    <tr>\n",
       "      <th>3</th>\n",
       "      <td>Ben00004</td>\n",
       "      <td>8</td>\n",
       "      <td>4</td>\n",
       "      <td>2</td>\n",
       "    </tr>\n",
       "    <tr>\n",
       "      <th>4</th>\n",
       "      <td>Ben00005</td>\n",
       "      <td>7</td>\n",
       "      <td>2</td>\n",
       "      <td>0</td>\n",
       "    </tr>\n",
       "  </tbody>\n",
       "</table>\n",
       "</div>"
      ],
      "text/plain": [
       "  user_code  low_cost_counts  medium_cost_counts  high_cost_counts\n",
       "0  Ben00001                4                   2                 1\n",
       "1  Ben00002                7                   2                 0\n",
       "2  Ben00003                8                   1                 5\n",
       "3  Ben00004                8                   4                 2\n",
       "4  Ben00005                7                   2                 0"
      ]
     },
     "execution_count": 12,
     "metadata": {},
     "output_type": "execute_result"
    }
   ],
   "source": [
    "df_users = df_sales.groupby(\"user_code\").size().reset_index(name=\"total\")\n",
    "del df_users[\"total\"]\n",
    "\n",
    "for df in [df_low_cost_count, df_medium_cost_count, df_high_cost_count]:\n",
    "    df_users = pd.merge(df_users, df, how=\"left\", on=\"user_code\")\n",
    "\n",
    "df_users = df_users.fillna(0)\n",
    "df_users[[\"low_cost_counts\", \"medium_cost_counts\", \"high_cost_counts\"]] = df_users[[\"low_cost_counts\", \"medium_cost_counts\", \"high_cost_counts\"]].astype(int)\n",
    "\n",
    "df_users.head()"
   ]
  },
  {
   "cell_type": "code",
   "execution_count": 13,
   "metadata": {},
   "outputs": [
    {
     "data": {
      "text/html": [
       "<div>\n",
       "<style scoped>\n",
       "    .dataframe tbody tr th:only-of-type {\n",
       "        vertical-align: middle;\n",
       "    }\n",
       "\n",
       "    .dataframe tbody tr th {\n",
       "        vertical-align: top;\n",
       "    }\n",
       "\n",
       "    .dataframe thead th {\n",
       "        text-align: right;\n",
       "    }\n",
       "</style>\n",
       "<table border=\"1\" class=\"dataframe\">\n",
       "  <thead>\n",
       "    <tr style=\"text-align: right;\">\n",
       "      <th></th>\n",
       "      <th>user_code</th>\n",
       "      <th>low_cost_counts</th>\n",
       "      <th>medium_cost_counts</th>\n",
       "      <th>high_cost_counts</th>\n",
       "    </tr>\n",
       "  </thead>\n",
       "  <tbody>\n",
       "    <tr>\n",
       "      <th>0</th>\n",
       "      <td>Ben00001</td>\n",
       "      <td>0.571429</td>\n",
       "      <td>0.285714</td>\n",
       "      <td>0.142857</td>\n",
       "    </tr>\n",
       "    <tr>\n",
       "      <th>1</th>\n",
       "      <td>Ben00002</td>\n",
       "      <td>0.777778</td>\n",
       "      <td>0.222222</td>\n",
       "      <td>0.000000</td>\n",
       "    </tr>\n",
       "    <tr>\n",
       "      <th>2</th>\n",
       "      <td>Ben00003</td>\n",
       "      <td>0.571429</td>\n",
       "      <td>0.071429</td>\n",
       "      <td>0.357143</td>\n",
       "    </tr>\n",
       "    <tr>\n",
       "      <th>3</th>\n",
       "      <td>Ben00004</td>\n",
       "      <td>0.571429</td>\n",
       "      <td>0.285714</td>\n",
       "      <td>0.142857</td>\n",
       "    </tr>\n",
       "    <tr>\n",
       "      <th>4</th>\n",
       "      <td>Ben00005</td>\n",
       "      <td>0.777778</td>\n",
       "      <td>0.222222</td>\n",
       "      <td>0.000000</td>\n",
       "    </tr>\n",
       "  </tbody>\n",
       "</table>\n",
       "</div>"
      ],
      "text/plain": [
       "  user_code  low_cost_counts  medium_cost_counts  high_cost_counts\n",
       "0  Ben00001         0.571429            0.285714          0.142857\n",
       "1  Ben00002         0.777778            0.222222          0.000000\n",
       "2  Ben00003         0.571429            0.071429          0.357143\n",
       "3  Ben00004         0.571429            0.285714          0.142857\n",
       "4  Ben00005         0.777778            0.222222          0.000000"
      ]
     },
     "execution_count": 13,
     "metadata": {},
     "output_type": "execute_result"
    }
   ],
   "source": [
    "# max= np.max(df_users['low_cost_counts'])\n",
    "# min= np.min(df_users['low_cost_counts'])\n",
    "# df_users[\"low_cost_counts\"] = (df_users[\"low_cost_counts\"]-min)/(max-min)\n",
    "# max= np.max(df_users['medium_cost_counts'])\n",
    "# min= np.min(df_users['medium_cost_counts'])\n",
    "# df_users[\"medium_cost_counts\"] = (df_users[\"medium_cost_counts\"]-min)/(max-min)\n",
    "# max= np.max(df_users['high_cost_counts'])\n",
    "# min= np.min(df_users['high_cost_counts'])\n",
    "# df_users[\"high_cost_counts\"] = (df_users[\"high_cost_counts\"]-min)/(max-min)\n",
    "\n",
    "df_users[\"all_counts\"] = df_users[\"low_cost_counts\"] + df_users[\"medium_cost_counts\"] + df_users[\"high_cost_counts\"]\n",
    "df_users[\"low_cost_counts\"] = df_users[\"low_cost_counts\"]/df_users[\"all_counts\"]\n",
    "df_users[\"medium_cost_counts\"] = df_users[\"medium_cost_counts\"]/df_users[\"all_counts\"]\n",
    "df_users[\"high_cost_counts\"] = df_users[\"high_cost_counts\"]/df_users[\"all_counts\"]\n",
    "del df_users[\"all_counts\"]\n",
    "df_users.head()\n"
   ]
  },
  {
   "cell_type": "markdown",
   "metadata": {},
   "source": [
    "# 聚类划分用户定位"
   ]
  },
  {
   "cell_type": "code",
   "execution_count": 14,
   "metadata": {},
   "outputs": [],
   "source": [
    "count_data = np.array(df_users[[\"low_cost_counts\", \"medium_cost_counts\", \"high_cost_counts\"]])"
   ]
  },
  {
   "cell_type": "code",
   "execution_count": 15,
   "metadata": {},
   "outputs": [
    {
     "data": {
      "text/plain": [
       "array([0.64344919, 0.2191532 , 0.13739761])"
      ]
     },
     "execution_count": 15,
     "metadata": {},
     "output_type": "execute_result"
    }
   ],
   "source": [
    "np.mean(count_data,axis=0)"
   ]
  },
  {
   "cell_type": "code",
   "execution_count": 16,
   "metadata": {},
   "outputs": [],
   "source": [
    "def calculate_distance(point1, point2):\n",
    "    return np.sqrt(np.sum(np.square(point1-point2)))\n",
    "\n",
    "def plot_fig(data_cls1, data_cls2, data_cls3, center):\n",
    "    fig = plt.figure()\n",
    "    ax = Axes3D(fig)\n",
    "\n",
    "    data_x1 = data_cls1[:200,0]\n",
    "    data_y1 = data_cls1[:200,1]\n",
    "    data_z1 = data_cls1[:200,2]\n",
    "    ax.scatter(data_x1, data_y1, data_z1, c='y')\n",
    "    \n",
    "    data_x2 = data_cls2[:200,0]\n",
    "    data_y2 = data_cls2[:200,1]\n",
    "    data_z2 = data_cls2[:200,2]\n",
    "    ax.scatter(data_x2, data_y2, data_z2, c='g')\n",
    "    \n",
    "    data_x3 = data_cls3[:200,0]\n",
    "    data_y3 = data_cls3[:200,1]\n",
    "    data_z3 = data_cls3[:200,2]\n",
    "    ax.scatter(data_x3, data_y3, data_z3, c='b')\n",
    "\n",
    "    ax.scatter(center[0][0], center[0][1], center[0][2], c='r', marker='^')\n",
    "    ax.scatter(center[1][0], center[1][1], center[1][2], c='r', marker='o')\n",
    "    ax.scatter(center[2][0], center[2][1], center[2][2], c='r', marker='x')\n",
    "    \n",
    "    ax.set_xlabel('X')\n",
    "    ax.set_ylabel('Y')\n",
    "    ax.set_zlabel('Z')\n",
    "\n",
    "    # 仰角和方位角\n",
    "    ax.view_init(elev=15, azim=45)\n",
    "    # ax.invert_yaxis()\n",
    "\n",
    "def dbi(k, data, cls, center):\n",
    "    avg_si = np.zeros(k)\n",
    "    for label in range(k):\n",
    "        data_label = data[cls==label]\n",
    "        if len(data_label) == 0:\n",
    "            avg_si[label] = 0\n",
    "        else:\n",
    "            avg_si[label] = np.mean(np.sqrt(np.sum(np.square(data_label-center[label]), axis=1)))\n",
    "    \n",
    "    kdbi = 0\n",
    "    for i in range(k):\n",
    "        max_val = -float(\"inf\")\n",
    "        for j in range(k):\n",
    "            if i == j:\n",
    "                continue\n",
    "            max_val = max(max_val, (avg_si[i]+avg_si[j])/ calculate_distance(center[i], center[j]))\n",
    "        kdbi += max_val\n",
    "    return kdbi/k\n",
    "\n",
    "def k_means(data, k):\n",
    "    len_data = len(data)\n",
    "    \n",
    "    # rarray = np.random.random(size=k)\n",
    "    # rarray = np.floor(rarray*len_data)\n",
    "    # rarray = rarray.astype(int)\n",
    "    # print(\"数据初始中心索引:\", rarray)\n",
    "    # center = data[rarray]\n",
    "\n",
    "    center = [[0.8, 0.1, 0.1],[0.1, 0.8, 0.1],[0.1, 0.1, 0.8]]\n",
    "    center = np.array(center)\n",
    "    \n",
    "    print(\"初始中心坐标:\\n\", center)\n",
    "    cls = -1 * np.ones([len_data], int)\n",
    "\n",
    "    while True:\n",
    "        new_cls = copy.deepcopy(cls)\n",
    "        for i in range(len_data):\n",
    "            min_distance = np.inf\n",
    "            for j in range(k):\n",
    "                temp_distance = calculate_distance(center[j], data[i])\n",
    "                if temp_distance < min_distance:\n",
    "                    min_distance = temp_distance\n",
    "                    cls[i] = j\n",
    "            center[cls[i]] = np.mean(data[cls==cls[i]], axis=0)\n",
    "        if np.array_equal(new_cls, cls):\n",
    "            break    \n",
    "    print(\"聚类后中心坐标:\\n\", center)\n",
    "\n",
    "    data_1 = data[cls==0]\n",
    "    data_2 = data[cls==1]\n",
    "    data_3 = data[cls==2]\n",
    "    plot_fig(data_1, data_2, data_3, center)\n",
    "\n",
    "    dbi_val = dbi(k, data, cls, center)\n",
    "    print(\"聚类评价指标DBI的值为:\", dbi_val)"
   ]
  },
  {
   "cell_type": "code",
   "execution_count": 17,
   "metadata": {},
   "outputs": [
    {
     "name": "stdout",
     "output_type": "stream",
     "text": [
      "初始中心坐标:\n",
      " [[0.8 0.1 0.1]\n",
      " [0.1 0.8 0.1]\n",
      " [0.1 0.1 0.8]]\n",
      "聚类后中心坐标:\n",
      " [[0.78440624 0.12036883 0.09522493]\n",
      " [0.50526233 0.38916712 0.10557056]\n",
      " [0.41832406 0.1607692  0.42090674]]\n",
      "聚类评价指标DBI的值为: 0.9984700663188854\n"
     ]
    },
    {
     "name": "stderr",
     "output_type": "stream",
     "text": [
      "d:\\Environment\\python_venv\\pinn-demo\\lib\\site-packages\\ipykernel_launcher.py:6: MatplotlibDeprecationWarning: Axes3D(fig) adding itself to the figure is deprecated since 3.4. Pass the keyword argument auto_add_to_figure=False and use fig.add_axes(ax) to suppress this warning. The default value of auto_add_to_figure will change to False in mpl3.5 and True values will no longer work in 3.6.  This is consistent with other Axes classes.\n",
      "  \n"
     ]
    },
    {
     "data": {
      "image/png": "[encoded data removed]",
      "text/plain": [
       "<Figure size 432x288 with 1 Axes>"
      ]
     },
     "metadata": {
      "needs_background": "light"
     },
     "output_type": "display_data"
    }
   ],
   "source": [
    "k_means(count_data, 3)"
   ]
  }
 ],
 "metadata": {
  "interpreter": {
   "hash": "a992cf3596df1e7fd133a6d2892b6745bef1381206016a862337631556feb435"
  },
  "kernelspec": {
   "display_name": "Python 3.7.0 64-bit ('pinn-demo': venv)",
   "language": "python",
   "name": "python3"
  },
  "language_info": {
   "codemirror_mode": {
    "name": "ipython",
    "version": 3
   },
   "file_extension": ".py",
   "mimetype": "text/x-python",
   "name": "python",
   "nbconvert_exporter": "python",
   "pygments_lexer": "ipython3",
   "version": "3.7.0"
  },
  "orig_nbformat": 4
 },
 "nbformat": 4,
 "nbformat_minor": 2
}
