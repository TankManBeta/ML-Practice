{
 "cells": [
  {
   "cell_type": "code",
   "execution_count": 145,
   "metadata": {},
   "outputs": [],
   "source": [
    "import math\n",
    "import numpy as np"
   ]
  },
  {
   "cell_type": "code",
   "execution_count": 146,
   "metadata": {},
   "outputs": [],
   "source": [
    "def cost_all(boat_add,operator_add,maintain_boat,maintain_operator,fit):\n",
    "    cost = 0\n",
    "    c = []\n",
    "    for i in range(len(boat_add)):\n",
    "        costi = 200 * boat_add[i] + 100 * operator_add[i] + 5 * maintain_operator[i] + 10 * maintain_boat[i] + 10 * fit[i]\n",
    "        cost = cost + costi\n",
    "        c.append(costi)\n",
    "    return cost,c"
   ]
  },
  {
   "cell_type": "code",
   "execution_count": 147,
   "metadata": {},
   "outputs": [],
   "source": [
    "def operator_num(operator_add,need,num,c):\n",
    "    operator = 50\n",
    "    n = len(operator_add)\n",
    "    maintain_operator = [ 0 for i in range(n) ]\n",
    "    fit = [ 0 for i in range(n) ]\n",
    "    for i in range(n):\n",
    "        fit[i] = operator_add[i] + math.ceil(operator_add[i]/num)\n",
    "        maintain_operator[i] = operator - 4 * need[i] - math.ceil(operator_add[i]/num)\n",
    "        operator = operator + operator_add[i] - 4 * round(c * need[i])\n",
    "    return fit,maintain_operator"
   ]
  },
  {
   "cell_type": "code",
   "execution_count": 148,
   "metadata": {},
   "outputs": [],
   "source": [
    "def boat_num(boat_add,need,c):\n",
    "    boat = 13\n",
    "    n = len(boat_add)\n",
    "    maintain_boat = [ 0 for i in range(n) ]\n",
    "\n",
    "    for i in range(n):\n",
    "        maintain_boat[i] = boat - need[i]\n",
    "        boat = boat + boat_add[i] - round(c * need[i])\n",
    "    return maintain_boat"
   ]
  },
  {
   "cell_type": "code",
   "execution_count": 149,
   "metadata": {},
   "outputs": [],
   "source": [
    "#对艇的购买计划进行合理性分析\n",
    "def reasonable_boat(boat_add,need,c):\n",
    "    t = True\n",
    "    boat = 13\n",
    "    n = len(boat_add)\n",
    "    for i in range(n):\n",
    "        if boat < need[i]:\n",
    "            t = False\n",
    "            return t\n",
    "        boat = boat + boat_add[i] - round(c * need[i])\n",
    "    return t"
   ]
  },
  {
   "cell_type": "code",
   "execution_count": 150,
   "metadata": {},
   "outputs": [],
   "source": [
    "#对操作员的购买计划进行合理性分析\n",
    "def reasonable_operator(operator_add,need,num,c):\n",
    "    t = True\n",
    "    operator = 50\n",
    "    n = len(operator_add)\n",
    "    operator1 = 0\n",
    "    for i in range(n):\n",
    "        if operator - operator1 < 4 * need[i] + math.ceil(operator_add[i]/num):\n",
    "            print('?',i)\n",
    "            t = False\n",
    "            return t\n",
    "        operator1 = 4 * (need[i] - round(c * need[i]))\n",
    "        operator = operator + operator_add[i] - 4 * round(c * need[i])\n",
    "    return t"
   ]
  },
  {
   "cell_type": "code",
   "execution_count": 151,
   "metadata": {},
   "outputs": [],
   "source": [
    "def cost_boat(boat_add,maintain_boat):\n",
    "    cost = 0\n",
    "    for i in range(len(boat_add)):\n",
    "        costi = 200 * boat_add[i]  + 10 * maintain_boat[i]\n",
    "        cost = cost + costi\n",
    "    return cost"
   ]
  },
  {
   "cell_type": "code",
   "execution_count": 152,
   "metadata": {},
   "outputs": [],
   "source": [
    "def cost_operator(operator_add,maintain_operator,fit):\n",
    "    cost = 0\n",
    "    for i in range(len(operator_add)):\n",
    "        costi = 100 * operator_add[i] + 5 * maintain_operator[i] + 10 * fit[i]\n",
    "        cost = cost + costi\n",
    "    return cost"
   ]
  },
  {
   "cell_type": "code",
   "execution_count": 153,
   "metadata": {},
   "outputs": [
    {
     "name": "stdout",
     "output_type": "stream",
     "text": [
      "? 62\n",
      "1\n",
      "boat_add [0, 0, 0, 8, 0, 0, 0, 3, 0, 0, 0, 5, 0, 0, 0, 2, 0, 0, 6, 20, 0, 0, 4, 11, 0, 0, 0, 1, 0, 0, 0, 1, 0, 0, 0, 6, 0, 0, 2, 7, 0, 0, 3, 6, 0, 0, 8, 13, 0, 6, 18, 21, 5, 9, 13, 18, 0, 3, 12, 17, 1, 8, 11, 16, 0, 5, 10, 15, 0, 3, 8, 14, 0, 9, 14, 21, 4, 16, 22, 28, 6, 18, 26, 33, 8, 17, 20, 28, 7, 18, 19, 33, 6, 18, 19, 34, 11, 17, 24, 30, 12, 17, 25, 0]\n",
      "operator_add [22, 0, 0, 40, 0, 0, 0, 9, 0, 0, 0, 21, 0, 0, 0, 3, 0, 0, 31, 102, 35, 0, 0, 42, 0, 0, 0, 0, 0, 0, 0, 0, 0, 0, 0, 0, 0, 0, 1, 36, 16, 0, 0, 23, 13, 0, 21, 73, 25, 14, 87, 126, 53, 20, 58, 80, 51, 0, 0, 61, 26, 8, 52, 67, 46, 0, 6, 53, 37, 0, 4, 37, 20, 18, 77, 96, 50, 52, 122, 135, 60, 53, 132, 154, 66, 35, 88, 112, 49, 39, 92, 127, 57, 32, 93, 135, 80, 43, 102, 127, 67, 50, 140, 0]\n",
      "maintain_boat [2, 6, 6, 2, 0, 7, 7, 4, 0, 4, 4, 1, 0, 5, 5, 2, 0, 2, 1, 0, 0, 2, 2, 0, 0, 9, 10, 7, 0, 7, 7, 4, 0, 4, 3, 1, 0, 3, 2, 0, 0, 2, 1, 0, 0, 2, 0, 0, 0, 0, 0, 0, 0, 0, 0, 0, 0, 3, 0, 0, 0, 0, 0, 0, 0, 1, 0, 0, 0, 3, 0, 0, 0, 0, 0, 0, 0, 0, 0, 0, 0, 0, 0, 0, 0, 0, 0, 0, 0, 0, 0, 0, 0, 0, 0, 0, 0, 0, 0, 0, 0, 0, 0, 0]\n",
      "maintain_operator [3, 44, 44, 24, 28, 56, 56, 43, 25, 41, 41, 26, 26, 46, 46, 33, 21, 29, 21, 17, 46, 93, 93, 64, 67, 103, 107, 95, 63, 91, 91, 79, 59, 75, 71, 63, 35, 47, 42, 24, 34, 60, 56, 37, 37, 60, 49, 33, 59, 85, 68, 79, 128, 165, 145, 149, 159, 228, 204, 149, 146, 170, 141, 148, 153, 208, 183, 144, 139, 192, 167, 136, 119, 139, 115, 134, 151, 184, 165, 198, 229, 265, 238, 264, 295, 332, 294, 299, 306, 328, 289, 302, 304, 339, 293, 306, 311, 350, 319, 323, 336, 357, 330, 384]\n",
      "fit [25, 0, 0, 44, 0, 0, 0, 10, 0, 0, 0, 24, 0, 0, 0, 4, 0, 0, 35, 113, 39, 0, 0, 47, 0, 0, 0, 0, 0, 0, 0, 0, 0, 0, 0, 0, 0, 0, 2, 40, 18, 0, 0, 26, 15, 0, 24, 81, 28, 16, 96, 139, 59, 22, 64, 88, 57, 0, 0, 68, 29, 9, 58, 74, 51, 0, 7, 59, 41, 0, 5, 41, 22, 20, 85, 106, 55, 58, 135, 149, 66, 59, 146, 170, 73, 39, 97, 124, 54, 43, 102, 140, 63, 36, 103, 149, 88, 48, 113, 140, 74, 55, 154, 0]\n",
      "costi [2485, 280, 280, 6180, 140, 350, 350, 1855, 125, 245, 245, 3480, 130, 280, 280, 925, 105, 165, 4765, 15415, 4120, 485, 1285, 7190, 335, 605, 635, 745, 315, 525, 525, 635, 295, 415, 385, 1525, 175, 265, 750, 5520, 1950, 320, 890, 3945, 1635, 320, 4185, 10875, 3075, 3185, 13600, 18585, 7530, 4845, 9765, 13225, 6465, 1770, 3420, 10925, 3820, 3340, 8685, 11380, 5875, 2050, 3585, 9610, 4805, 1590, 2885, 7590, 2815, 4495, 11925, 15530, 7105, 9900, 18775, 21580, 9005, 10815, 21050, 25020, 10405, 8950, 15240, 19535, 8370, 9570, 15465, 22210, 9050, 8855, 15595, 23320, 12635, 9930, 17725, 21715, 11520, 10735, 22190, 1920]\n",
      "cost 683485\n",
      "cost_boat 177110\n",
      "cost_operator 506375\n"
     ]
    }
   ],
   "source": [
    "boat = 13\n",
    "operator = 50\n",
    "c = 0.2\n",
    "num = 10\n",
    "# need = [11,5,4,7,16,6,5,7,13]#前8周\n",
    "need = [11, 5, 4, 7, 16, 6, 5, 7, 13, 6, 5, 7, 12, 5, 4, 6, 9, 5, 5, 11, 29, 21, 17, 20, 27, 13, \n",
    "9, 10, 16, 6, 5, 7, 11, 5, 5, 6, 12, 7, 7, 10, 15, 10, 9, 11, 15, 10, 10, 16, 26, 21, 23, 36, \n",
    "50, 45, 45, 49, 57, 43, 40, 44, 52, 43, 42, 45, 52, 41, 39, 41, 48, 35, 34, 35, 42, 34, 36, 43, \n",
    "55, 48, 54, 65, 80, 70, 74, 85, 101, 89, 88, 90, 100, 87, 88, 89, 104, 89, 89, 90, 106, 96, 94, \n",
    "99, 109, 99, 96, 102,0]\n",
    "n = len(need) -1\n",
    "boat_add = [ 0 for j in range(n) ]\n",
    "operator_add = [ 0 for j in range(n) ]\n",
    "for i in range(n-1):\n",
    "    if (need[i+1] + round(c * need[i])) > boat:\n",
    "        boat_add[i] = need[i+1] + round(c * need[i]) - boat\n",
    "        boat = boat + boat_add[i]\n",
    "    if 4 * (need[i+1] + need[i+2]) > operator - 4 * round(c * need[i]):\n",
    "        operator_nextadd = 4 * (need[i+1] + need[i+2]) + 4 * round(c * need[i]) - operator\n",
    "        if 4 * (need[i] + need[i+1]) + math.ceil(operator_nextadd/num) > operator:\n",
    "            operator_add[i] = 4 * (need[i] + need[i+1]) + math.ceil(operator_nextadd/num) - operator\n",
    "            operator = operator + operator_add[i]\n",
    "    else:\n",
    "        if 4 * (need[i] + need[i+1]) > operator:\n",
    "            operator_add[i] = 4 * (need[i] + need[i+1] + round(c * need[i])) - operator\n",
    "            operator = operator + operator_add[i]\n",
    "    boat = boat - round(c * need[i])\n",
    "    operator = operator - 4 * round(c * need[i])\n",
    "\n",
    "#对operator - operator1 < 4 * need[i] + math.ceil(operator_add[i]/num)的情况对operator_add进行调整\n",
    "while reasonable_operator(operator_add,need,num,c) == False:\n",
    "    print(1)\n",
    "    operator1 = 0\n",
    "    operator = 50\n",
    "    for i in range(n):\n",
    "        if operator - operator1 < 4 * need[i] + math.ceil(operator_add[i]/num):\n",
    "            operator_add[i-1] = operator_add[i-1] + math.ceil(operator_add[i]/num)\n",
    "            operator_add[i] = operator_add[i] - math.ceil(operator_add[i]/num)\n",
    "        operator1 = 4 * (need[i] - round(c * need[i]))\n",
    "        operator = operator + operator_add[i] - 4 * round(c * need[i])\n",
    "\n",
    "maintain_boat = boat_num(boat_add,need,c)\n",
    "fit,maintain_operator = operator_num(operator_add,need,num,c)\n",
    "cost,costi = cost_all(boat_add,operator_add,maintain_boat,maintain_operator,fit)\n",
    "cost1 = cost_boat(boat_add,maintain_boat)\n",
    "cost2 = cost_operator(operator_add,maintain_operator,fit)\n",
    "print('boat_add',boat_add)\n",
    "print('operator_add',operator_add)\n",
    "print('maintain_boat',maintain_boat)\n",
    "print('maintain_operator',maintain_operator)\n",
    "print('fit',fit)\n",
    "print('costi',costi)\n",
    "print('cost',cost)\n",
    "print('cost_boat',cost1)\n",
    "print('cost_operator',cost2)"
   ]
  },
  {
   "cell_type": "code",
   "execution_count": 154,
   "metadata": {},
   "outputs": [
    {
     "name": "stdout",
     "output_type": "stream",
     "text": [
      "boat_add_all: 879\n",
      "operator_add_all: 3902\n",
      "maintain_operator_all: 14587\n",
      "maintain_boat_all: 131\n",
      "fit_all: 4324\n"
     ]
    }
   ],
   "source": [
    "boat_add_all = 0\n",
    "operator_add_all = 0\n",
    "maintain_boat_all = 0 \n",
    "maintain_operator_all = 0  \n",
    "fit_all = 0  \n",
    "for i in range(n):\n",
    "    boat_add_all = boat_add_all +boat_add[i]\n",
    "    operator_add_all = operator_add_all + operator_add[i]\n",
    "    maintain_boat_all = maintain_boat_all + maintain_boat[i]\n",
    "    maintain_operator_all = maintain_operator_all + maintain_operator[i]\n",
    "    fit_all = fit_all + fit[i]\n",
    "print('boat_add_all:',boat_add_all)\n",
    "print('operator_add_all:',operator_add_all)\n",
    "print('maintain_operator_all:',maintain_operator_all)\n",
    "print('maintain_boat_all:',maintain_boat_all)\n",
    "print('fit_all:',fit_all)"
   ]
  },
  {
   "cell_type": "code",
   "execution_count": 155,
   "metadata": {},
   "outputs": [
    {
     "name": "stdout",
     "output_type": "stream",
     "text": [
      "12\n",
      "boat_add 5\n",
      "operator_add 21\n",
      "maintain_operator 26\n",
      "maintain_boat 1\n",
      "fit 24\n",
      "costi 3480\n",
      "26\n",
      "boat_add 0\n",
      "operator_add 0\n",
      "maintain_operator 103\n",
      "maintain_boat 9\n",
      "fit 0\n",
      "costi 605\n",
      "52\n",
      "boat_add 21\n",
      "operator_add 126\n",
      "maintain_operator 79\n",
      "maintain_boat 0\n",
      "fit 139\n",
      "costi 18585\n",
      "78\n",
      "boat_add 16\n",
      "operator_add 52\n",
      "maintain_operator 184\n",
      "maintain_boat 0\n",
      "fit 58\n",
      "costi 9900\n",
      "101\n",
      "boat_add 12\n",
      "operator_add 67\n",
      "maintain_operator 336\n",
      "maintain_boat 0\n",
      "fit 74\n",
      "costi 11520\n",
      "102\n",
      "boat_add 17\n",
      "operator_add 50\n",
      "maintain_operator 357\n",
      "maintain_boat 0\n",
      "fit 55\n",
      "costi 10735\n",
      "103\n",
      "boat_add 25\n",
      "operator_add 140\n",
      "maintain_operator 330\n",
      "maintain_boat 0\n",
      "fit 154\n",
      "costi 22190\n",
      "104\n",
      "boat_add 0\n",
      "operator_add 0\n",
      "maintain_operator 384\n",
      "maintain_boat 0\n",
      "fit 0\n",
      "costi 1920\n"
     ]
    }
   ],
   "source": [
    "for i in [11,25,51,77,100,101,102,103]:\n",
    "    print(i+1)\n",
    "    print('boat_add',boat_add[i])\n",
    "    print('operator_add',operator_add[i])\n",
    "    print('maintain_operator',maintain_operator[i])\n",
    "    print('maintain_boat',maintain_boat[i])    \n",
    "    print('fit',fit[i])\n",
    "    print('costi',costi[i])"
   ]
  },
  {
   "cell_type": "markdown",
   "metadata": {},
   "source": [
    "问题4"
   ]
  },
  {
   "cell_type": "code",
   "execution_count": 156,
   "metadata": {},
   "outputs": [],
   "source": [
    "#将x移到y的收益,移到距离为d\n",
    "def profit_xy_boat(x,y,d):\n",
    "    Max = max(x,y)\n",
    "    Min = min(x,y)\n",
    "    cost = d * 10 * x\n",
    "    if x+y > 10:\n",
    "        if Min >= 10:\n",
    "            profit = 300 - cost\n",
    "        elif Min >= 5:\n",
    "            if Max >= 10:\n",
    "                profit = 200 + 20 * (Min - 5) - cost\n",
    "            else:\n",
    "                profit = 20 * (10 - Max) + 40 * (x + y - 10) - 20 * (Min - 5) - cost\n",
    "        else:\n",
    "            if Max >= 10:\n",
    "                profit = 40 * Min - cost\n",
    "            else:\n",
    "                profit = 20 * (10 - Max) + 40 * (x + y - 10) - cost\n",
    "    elif x + y >= 5:\n",
    "        if Max >= 5:\n",
    "            profit = 20 * Min - cost\n",
    "        else:\n",
    "            profit = 20 * (x + y -5) - cost\n",
    "    else:\n",
    "        profit = -1 * cost\n",
    "    return profit"
   ]
  },
  {
   "cell_type": "code",
   "execution_count": 157,
   "metadata": {},
   "outputs": [],
   "source": [
    "#考虑当前位置的前3和后3之间的关系\n",
    "def Ischange_boat(temp):\n",
    "    t = True\n",
    "    d = 0\n",
    "    profit = 0\n",
    "    if temp[0] != 0:\n",
    "        d1 = 3\n",
    "        profit1 = profit_xy_boat(temp[3],temp[0],d1)\n",
    "        if profit1 > profit:\n",
    "            d = d1\n",
    "            profit = profit1\n",
    "    if temp[1] != 0:\n",
    "        d1 = 2\n",
    "        profit1 = profit_xy_boat(temp[3],temp[1],d1)\n",
    "        if profit1 > profit:\n",
    "            d = d1\n",
    "            profit = profit1\n",
    "    if temp[2] != 0:\n",
    "        d1 = 1\n",
    "        profit1 = profit_xy_boat(temp[3],temp[2],d1)\n",
    "        if profit1 > profit:\n",
    "            d = d1\n",
    "            profit = profit1\n",
    "    #往前移到没有收益\n",
    "    if profit <= 0:\n",
    "        t = False\n",
    "        return t,d,profit\n",
    "    if temp[4] != 0:\n",
    "        d1 = -1\n",
    "        profit1 = profit_xy_boat(temp[4],temp[3],1)\n",
    "        if profit1 > profit:\n",
    "            t = False\n",
    "            return t,d,profit\n",
    "    if temp[5] != 0:\n",
    "        d1 = -2\n",
    "        profit1 = profit_xy_boat(temp[5],temp[3],2)\n",
    "        if profit1 > profit:\n",
    "            t = False\n",
    "            return t,d,profit\n",
    "    if temp[6] != 0:\n",
    "        d1 = -3\n",
    "        profit1 = profit_xy_boat(temp[6],temp[3],3)\n",
    "        if profit1 > profit:\n",
    "            t = False\n",
    "            return t,d,profit\n",
    "    #往前移到收益最大\n",
    "    return t,d,profit"
   ]
  },
  {
   "cell_type": "code",
   "execution_count": 158,
   "metadata": {},
   "outputs": [
    {
     "name": "stdout",
     "output_type": "stream",
     "text": [
      "3190\n"
     ]
    }
   ],
   "source": [
    "#调整boat_add\n",
    "change = True\n",
    "boat_add_q4 = np.array(boat_add)\n",
    "p = 0\n",
    "while change:\n",
    "    change = False\n",
    "    for i in range(3,len(boat_add)):\n",
    "        if i + 3 < len(boat_add):\n",
    "            temp = [boat_add_q4[i-3],boat_add_q4[i-2],boat_add_q4[i-1],boat_add_q4[i],boat_add_q4[i+1],boat_add_q4[i+2],boat_add_q4[i+3]]\n",
    "        if i  == len(boat_add)-3:\n",
    "            temp = [boat_add_q4[i-3],boat_add_q4[i-2],boat_add_q4[i-1],boat_add_q4[i],boat_add_q4[i+1],boat_add_q4[i+2],0]\n",
    "        if i == len(boat_add)-2:\n",
    "            temp = [boat_add_q4[i-3],boat_add_q4[i-2],boat_add_q4[i-1],boat_add_q4[i],boat_add_q4[i+1],0,0]\n",
    "        if i == len(boat_add) - 1:\n",
    "            temp = [boat_add_q4[i-3],boat_add_q4[i-2],boat_add_q4[i-1],boat_add_q4[i],0,0,0]\n",
    "        t,d,profit1 = Ischange_boat(temp)\n",
    "        if t:\n",
    "            change = True\n",
    "            p = p + profit1\n",
    "            boat_add_q4[i - d] = boat_add_q4[i - d] + boat_add_q4[i]\n",
    "            boat_add_q4[i] = 0\n",
    "for i in range(3,len(boat_add)):\n",
    "    temp = [boat_add_q4[i-3],boat_add_q4[i-2],boat_add_q4[i-1],boat_add_q4[i],0,0,0]\n",
    "    t,d,profit1 = Ischange_boat(temp)\n",
    "    if t:\n",
    "        change = True\n",
    "        p = p + profit1\n",
    "        boat_add_q4[i - d] = boat_add_q4[i - d] + boat_add_q4[i]\n",
    "        boat_add_q4[i] = 0\n",
    "print(p)"
   ]
  },
  {
   "cell_type": "code",
   "execution_count": 159,
   "metadata": {},
   "outputs": [],
   "source": [
    "def cost_boat_q4(boat_add,maintain_boat):\n",
    "    cost = 0\n",
    "    c = []\n",
    "    for i in range(len(boat_add)):\n",
    "        if boat_add[i] > 10:\n",
    "            buy_boat = 1900 + 160 * (boat_add[i] - 10)\n",
    "        elif boat_add[i] > 5:\n",
    "            buy_boat = 1000 + 180 * (boat_add[i] - 5)\n",
    "        else:\n",
    "            buy_boat = 200 * boat_add[i]\n",
    "        costi = buy_boat  + 10 * maintain_boat[i]\n",
    "        cost = cost + costi\n",
    "        c.append(costi)\n",
    "    return cost,c"
   ]
  },
  {
   "cell_type": "code",
   "execution_count": 160,
   "metadata": {},
   "outputs": [
    {
     "name": "stdout",
     "output_type": "stream",
     "text": [
      "boat_add [0, 0, 0, 8, 0, 0, 0, 3, 0, 0, 0, 5, 0, 0, 0, 2, 0, 0, 6, 20, 0, 0, 4, 11, 0, 0, 0, 1, 0, 0, 0, 1, 0, 0, 0, 6, 0, 0, 2, 7, 0, 0, 3, 6, 0, 0, 8, 13, 0, 6, 18, 21, 5, 9, 13, 18, 0, 3, 12, 17, 1, 8, 11, 16, 0, 5, 10, 15, 0, 3, 8, 14, 0, 9, 14, 21, 4, 16, 22, 28, 6, 18, 26, 33, 8, 17, 20, 28, 7, 18, 19, 33, 6, 18, 19, 34, 11, 17, 24, 30, 12, 17, 25, 0]\n",
      "maintain_boat [2, 6, 6, 2, 0, 7, 7, 4, 0, 4, 4, 1, 0, 5, 5, 2, 0, 2, 1, 0, 0, 2, 2, 0, 0, 9, 10, 7, 0, 7, 7, 4, 0, 4, 3, 1, 0, 3, 2, 0, 0, 2, 1, 0, 0, 2, 0, 0, 0, 0, 0, 0, 0, 0, 0, 0, 0, 3, 0, 0, 0, 0, 0, 0, 0, 1, 0, 0, 0, 3, 0, 0, 0, 0, 0, 0, 0, 0, 0, 0, 0, 0, 0, 0, 0, 0, 0, 0, 0, 0, 0, 0, 0, 0, 0, 0, 0, 0, 0, 0, 0, 0, 0, 0]\n",
      "cost_boati [20, 60, 60, 1560, 0, 70, 70, 640, 0, 40, 40, 1010, 0, 50, 50, 420, 0, 20, 1190, 3500, 0, 20, 820, 2060, 0, 90, 100, 270, 0, 70, 70, 240, 0, 40, 30, 1190, 0, 30, 420, 1360, 0, 20, 610, 1180, 0, 20, 1540, 2380, 0, 1180, 3180, 3660, 1000, 1720, 2380, 3180, 0, 630, 2220, 3020, 200, 1540, 2060, 2860, 0, 1010, 1900, 2700, 0, 630, 1540, 2540, 0, 1720, 2540, 3660, 800, 2860, 3820, 4780, 1180, 3180, 4460, 5580, 1540, 3020, 3500, 4780, 1360, 3180, 3340, 5580, 1180, 3180, 3340, 5740, 2060, 3020, 4140, 5100, 2220, 3020, 4300, 0]\n",
      "cost_boat 158690\n"
     ]
    }
   ],
   "source": [
    "maintain_boat = boat_num(boat_add,need,c)\n",
    "cost1,costi1 = cost_boat_q4(boat_add,maintain_boat)\n",
    "print('boat_add',boat_add)\n",
    "print('maintain_boat',maintain_boat)\n",
    "print('cost_boati',costi1)\n",
    "print('cost_boat',cost1)"
   ]
  },
  {
   "cell_type": "code",
   "execution_count": 161,
   "metadata": {},
   "outputs": [
    {
     "name": "stdout",
     "output_type": "stream",
     "text": [
      "boat_add_q4 [ 0  0  0  8  0  0  0  3  0  0  0  5  0  0  0  2  0  0 26  0  0  0 15  0\n",
      "  0  0  0  1  0  0  0  1  0  0  0  6  0  0  2  7  0  0  3  6  0  0 27  0\n",
      "  0  0 44  0  0 22  0 21  0  0 30  0  0 19  0 21  0  0 28  0  0  0 22  0\n",
      "  0 23  0 25  0 38  0 34  0 44  0 41  0 37  0 35  0 37  0 39  0 37  0 45\n",
      "  0 41  0 42  0 42  0  0]\n",
      "maintain_boat_q4 [2, 6, 6, 2, 0, 7, 7, 4, 0, 4, 4, 1, 0, 5, 5, 2, 0, 2, 1, 20, 0, 2, 2, 11, 0, 9, 10, 7, 0, 7, 7, 4, 0, 4, 3, 1, 0, 3, 2, 0, 0, 2, 1, 0, 0, 2, 0, 19, 6, 6, 0, 26, 5, 0, 13, 0, 3, 6, 0, 18, 1, 0, 11, 0, 5, 6, 0, 18, 3, 6, 0, 14, 0, 0, 14, 0, 4, 0, 22, 0, 6, 0, 26, 0, 8, 0, 20, 0, 7, 0, 19, 0, 6, 0, 19, 0, 11, 0, 24, 0, 12, 0, 25, 0]\n",
      "cost_boati_q4 [20, 60, 60, 1560, 0, 70, 70, 640, 0, 40, 40, 1010, 0, 50, 50, 420, 0, 20, 4470, 200, 0, 20, 2720, 110, 0, 90, 100, 270, 0, 70, 70, 240, 0, 40, 30, 1190, 0, 30, 420, 1360, 0, 20, 610, 1180, 0, 20, 4620, 190, 60, 60, 7340, 260, 50, 3820, 130, 3660, 30, 60, 5100, 180, 10, 3340, 110, 3660, 50, 60, 4780, 180, 30, 60, 3820, 140, 0, 3980, 140, 4300, 40, 6380, 220, 5740, 60, 7340, 260, 6860, 80, 6220, 200, 5900, 70, 6220, 190, 6540, 60, 6220, 190, 7500, 110, 6860, 240, 7020, 120, 7020, 250, 0]\n",
      "cost_boat_q4 155500\n"
     ]
    }
   ],
   "source": [
    "maintain_boat_q4 = boat_num(boat_add_q4,need,c)\n",
    "cost1_q4,costi1_q4 = cost_boat_q4(boat_add_q4,maintain_boat_q4)\n",
    "print('boat_add_q4',boat_add_q4)\n",
    "print('maintain_boat_q4',maintain_boat_q4)\n",
    "print('cost_boati_q4',costi1_q4)\n",
    "print('cost_boat_q4',cost1_q4)"
   ]
  },
  {
   "cell_type": "markdown",
   "metadata": {},
   "source": [
    "问题4,操作手"
   ]
  },
  {
   "cell_type": "code",
   "execution_count": 162,
   "metadata": {},
   "outputs": [],
   "source": [
    "#将x移到y的收益,移到距离为d\n",
    "def profit_xy_operator(x,y,num,d):\n",
    "    Max = max(x,y)\n",
    "    Min = min(x,y)\n",
    "    fit_num = math.ceil(x/num) + math.ceil(y/num) - math.ceil((x+y)/num)\n",
    "    cost = d * 5 * x\n",
    "    if x+y > 40:\n",
    "        if Min >= 40:\n",
    "            profit = 600 - cost\n",
    "        elif Min >= 20:\n",
    "            if Max >= 40:\n",
    "                profit = 400 + 10 * (Min - 20) - cost\n",
    "            else:\n",
    "                profit = 10 * (40 - Max) + 20 * (x + y - 40) - 10 * (Min - 20) - cost\n",
    "        else:\n",
    "            if Max >= 40:\n",
    "                profit = 20 * Min - cost\n",
    "            else:\n",
    "                profit = 10 * (40 - Max) + 20 * (x + y - 40) - cost\n",
    "    elif x + y >= 20:\n",
    "        if Max >= 20:\n",
    "            profit = 10 * Min - cost\n",
    "        else:\n",
    "            profit = 10 * (x + y - 20) - cost\n",
    "    else:\n",
    "        profit = -1 * cost\n",
    "    profit = profit + 5 * fit_num\n",
    "    return profit"
   ]
  },
  {
   "cell_type": "code",
   "execution_count": 163,
   "metadata": {},
   "outputs": [],
   "source": [
    "#考虑当前位置的前3和后3之间的关系\n",
    "def Ischange_operator(temp,num):\n",
    "    t = True\n",
    "    d = 0\n",
    "    profit = 0\n",
    "    if temp[0] != 0:\n",
    "        d1 = 3\n",
    "        profit1 = profit_xy_operator(temp[3],temp[0],num,d1)\n",
    "        if profit1 > profit:\n",
    "            d = d1\n",
    "            profit = profit1\n",
    "    if temp[1] != 0:\n",
    "        d1 = 2\n",
    "        profit1 = profit_xy_operator(temp[3],temp[1],num,d1)\n",
    "        if profit1 > profit:\n",
    "            d = d1\n",
    "            profit = profit1\n",
    "    if temp[2] != 0:\n",
    "        d1 = 1\n",
    "        profit1 = profit_xy_operator(temp[3],temp[2],num,d1)\n",
    "        if profit1 > profit:\n",
    "            d = d1\n",
    "            profit = profit1\n",
    "    #往前移到没有收益\n",
    "    if profit <= 0:\n",
    "        t = False\n",
    "        return t,d,profit\n",
    "    if temp[4] != 0:\n",
    "        d1 = -1\n",
    "        profit1 = profit_xy_operator(temp[4],temp[3],num,1)\n",
    "        if profit1 > profit:\n",
    "            t = False\n",
    "            return t,d,profit\n",
    "    if temp[5] != 0:\n",
    "        d1 = -2\n",
    "        profit1 = profit_xy_operator(temp[5],temp[3],num,2)\n",
    "        if profit1 > profit:\n",
    "            t = False\n",
    "            return t,d,profit\n",
    "    if temp[6] != 0:\n",
    "        d1 = -3\n",
    "        profit1 = profit_xy_operator(temp[6],temp[3],num,3)\n",
    "        if profit1 > profit:\n",
    "            t = False\n",
    "            return t,d,profit\n",
    "    #往前移到收益最大\n",
    "    return t,d,profit"
   ]
  },
  {
   "cell_type": "code",
   "execution_count": 164,
   "metadata": {},
   "outputs": [
    {
     "name": "stdout",
     "output_type": "stream",
     "text": [
      "? 19\n",
      "8560\n"
     ]
    }
   ],
   "source": [
    "#调整operator_add\n",
    "change = True\n",
    "operator_add_q4 = np.array(operator_add)\n",
    "p = 0\n",
    "while change:\n",
    "    change = False\n",
    "    for i in range(3,len(operator_add)):\n",
    "        if i + 3 < len(operator_add):\n",
    "            temp = [operator_add_q4[i-3],operator_add_q4[i-2],operator_add_q4[i-1],operator_add_q4[i],operator_add_q4[i+1],operator_add_q4[i+2],operator_add_q4[i+3]]\n",
    "        if i  == len(operator_add)-3:\n",
    "            temp = [operator_add_q4[i-3],operator_add_q4[i-2],operator_add_q4[i-1],operator_add_q4[i],operator_add_q4[i+1],operator_add_q4[i+2],0]\n",
    "        if i == len(operator_add)-2:\n",
    "            temp = [operator_add_q4[i-3],operator_add_q4[i-2],operator_add_q4[i-1],operator_add_q4[i],operator_add_q4[i+1],0,0]\n",
    "        if i == len(operator_add) - 1:\n",
    "            temp = [operator_add_q4[i-3],operator_add_q4[i-2],operator_add_q4[i-1],operator_add_q4[i],0,0,0]\n",
    "        t,d,profit1 = Ischange_operator(temp,num)\n",
    "        if t:\n",
    "            change = True\n",
    "            p = p + profit1\n",
    "            operator_add_q4[i - d] = operator_add_q4[i - d] + operator_add_q4[i]\n",
    "            operator_add_q4[i] = 0\n",
    "    #合理性调整\n",
    "    while reasonable_operator(operator_add_q4,need,num,c) == False:\n",
    "        operator1 = 0\n",
    "        operator = 50\n",
    "        for i in range(n):\n",
    "            if operator - operator1 < 4 * need[i] + math.ceil(operator_add_q4[i]/num):\n",
    "                operator_add_q4[i-1] = operator_add_q4[i-1] + math.ceil(operator_add_q4[i]/num)\n",
    "                operator_add_q4[i] = operator_add_q4[i] - math.ceil(operator_add_q4[i]/num)\n",
    "            operator1 = 4 * (need[i] - round(c * need[i]))\n",
    "            operator = operator + operator_add_q4[i] - 4 * round(c * need[i])\n",
    "\n",
    "for i in range(3,len(operator_add)):\n",
    "    temp = [operator_add_q4[i-3],operator_add_q4[i-2],operator_add_q4[i-1],operator_add_q4[i],0,0,0]\n",
    "    t,d,profit1 = Ischange_operator(temp,num)\n",
    "    if t:\n",
    "        change = True\n",
    "        p = p + profit1\n",
    "        operator_add_q4[i - d] = operator_add_q4[i - d] + operator_add_q4[i]\n",
    "        operator_add_q4[i] = 0\n",
    "#合理性调整\n",
    "while reasonable_operator(operator_add_q4,need,num,c) == False:\n",
    "    operator1 = 0\n",
    "    operator = 50\n",
    "    for i in range(n):\n",
    "        if operator - operator1 < 4 * need[i] + math.ceil(operator_add_q4[i]/num):\n",
    "            operator_add_q4[i-1] = operator_add_q4[i-1] + math.ceil(operator_add_q4[i]/num)\n",
    "            operator_add_q4[i] = operator_add_q4[i] - math.ceil(operator_add_q4[i]/num)\n",
    "        operator1 = 4 * (need[i] - round(c * need[i]))\n",
    "        operator = operator + operator_add_q4[i] - 4 * round(c * need[i])\n",
    "print(p)"
   ]
  },
  {
   "cell_type": "code",
   "execution_count": 165,
   "metadata": {},
   "outputs": [],
   "source": [
    "def cost_operator_q4(operator_add,maintain_operator,fit):\n",
    "    cost = 0\n",
    "    c=[]\n",
    "    for i in range(len(operator_add)):\n",
    "        if operator_add[i] > 40:\n",
    "            buy_boat = 3800 + 80 * (operator_add[i] - 40)\n",
    "        elif boat_add[i] > 20:\n",
    "            buy_boat = 2000 + 90 * (operator_add[i] - 20)\n",
    "        else:\n",
    "            buy_boat = 100 * operator_add[i]\n",
    "        costi = buy_boat + 5 * maintain_operator[i] + 10 * fit[i]\n",
    "        cost = cost + costi\n",
    "        c.append(costi)\n",
    "    return cost,c"
   ]
  },
  {
   "cell_type": "code",
   "execution_count": 166,
   "metadata": {},
   "outputs": [
    {
     "name": "stdout",
     "output_type": "stream",
     "text": [
      "operator_add [22, 0, 0, 40, 0, 0, 0, 9, 0, 0, 0, 21, 0, 0, 0, 3, 0, 0, 31, 102, 35, 0, 0, 42, 0, 0, 0, 0, 0, 0, 0, 0, 0, 0, 0, 0, 0, 0, 1, 36, 16, 0, 0, 23, 13, 0, 21, 73, 25, 14, 87, 126, 53, 20, 58, 80, 51, 0, 0, 61, 26, 8, 52, 67, 46, 0, 6, 53, 37, 0, 4, 37, 20, 18, 77, 96, 50, 52, 122, 135, 60, 53, 132, 154, 66, 35, 88, 112, 49, 39, 92, 127, 57, 32, 93, 135, 80, 43, 102, 127, 67, 50, 140, 0]\n",
      "maintain_operator [3, 44, 44, 24, 28, 56, 56, 43, 25, 41, 41, 26, 26, 46, 46, 33, 21, 29, 21, 17, 46, 93, 93, 64, 67, 103, 107, 95, 63, 91, 91, 79, 59, 75, 71, 63, 35, 47, 42, 24, 34, 60, 56, 37, 37, 60, 49, 33, 59, 85, 68, 79, 128, 165, 145, 149, 159, 228, 204, 149, 146, 170, 141, 148, 153, 208, 183, 144, 139, 192, 167, 136, 119, 139, 115, 134, 151, 184, 165, 198, 229, 265, 238, 264, 295, 332, 294, 299, 306, 328, 289, 302, 304, 339, 293, 306, 311, 350, 319, 323, 336, 357, 330, 384]\n",
      "fit [25, 0, 0, 44, 0, 0, 0, 10, 0, 0, 0, 24, 0, 0, 0, 4, 0, 0, 35, 113, 39, 0, 0, 47, 0, 0, 0, 0, 0, 0, 0, 0, 0, 0, 0, 0, 0, 0, 2, 40, 18, 0, 0, 26, 15, 0, 24, 81, 28, 16, 96, 139, 59, 22, 64, 88, 57, 0, 0, 68, 29, 9, 58, 74, 51, 0, 7, 59, 41, 0, 5, 41, 22, 20, 85, 106, 55, 58, 135, 149, 66, 59, 146, 170, 73, 39, 97, 124, 54, 43, 102, 140, 63, 36, 103, 149, 88, 48, 113, 140, 74, 55, 154, 0]\n",
      "cost_operatori [2465, 220, 220, 4560, 140, 280, 280, 1215, 125, 205, 205, 2470, 130, 230, 230, 505, 105, 145, 3555, 9975, 4120, 465, 465, 4750, 335, 515, 535, 475, 315, 455, 455, 395, 295, 375, 355, 315, 175, 235, 330, 4120, 1950, 300, 280, 2745, 1635, 300, 2585, 7415, 3075, 1985, 8860, 12465, 6070, 3045, 6605, 8625, 6045, 1140, 1020, 6905, 3620, 1740, 6045, 7440, 5555, 1040, 1585, 6150, 4805, 960, 1285, 4790, 2815, 2695, 8185, 10010, 5905, 6260, 12535, 13880, 7205, 6755, 13810, 15940, 8085, 5550, 10080, 12295, 6590, 5970, 10425, 13670, 7310, 5255, 10535, 14420, 9435, 6270, 11485, 13775, 8380, 6935, 14990, 1920]\n",
      "cost_operator 464175\n"
     ]
    }
   ],
   "source": [
    "fit,maintain_operator = operator_num(operator_add,need,num,c)\n",
    "cost2,costi2 = cost_operator_q4(operator_add,maintain_operator,fit)\n",
    "print('operator_add',operator_add)\n",
    "print('maintain_operator',maintain_operator)\n",
    "print('fit',fit)\n",
    "print('cost_operatori',costi2)\n",
    "print('cost_operator',cost2)"
   ]
  },
  {
   "cell_type": "code",
   "execution_count": 167,
   "metadata": {},
   "outputs": [
    {
     "name": "stdout",
     "output_type": "stream",
     "text": [
      "operator_add_q4 [ 22   0   0  40   0   0   0   9   0   0   0  21   0   0   0   3   0   0\n",
      "  45 128   0   0   0  37   0   0   0   0   0   0   0   0   0   0   0   0\n",
      "   0   1   6  52   0   0   0  63   0   0   0 109   0   0  98 185   0   0\n",
      "  66 127   0   0   0  91   0   0 165   0   0   0  10  92   0   0   0  75\n",
      "   0   0  89 191   0   0 123 248   0   0 134 248   0   0  91 198   0   0\n",
      "  95 213   0   0  97 134 121   0 104 245   0   0 126   0]\n",
      "maintain_operator_q4 [3, 44, 44, 24, 28, 56, 56, 43, 25, 41, 41, 26, 26, 46, 46, 33, 21, 29, 20, 29, 90, 98, 98, 70, 67, 103, 107, 95, 63, 91, 91, 79, 59, 75, 71, 63, 35, 46, 43, 28, 58, 66, 62, 39, 85, 93, 85, 42, 110, 110, 76, 93, 213, 193, 150, 158, 226, 238, 214, 156, 189, 185, 136, 274, 210, 214, 189, 150, 192, 204, 180, 140, 167, 167, 122, 144, 271, 255, 178, 201, 362, 338, 252, 271, 412, 380, 302, 303, 409, 381, 299, 306, 409, 385, 303, 320, 319, 409, 330, 324, 474, 426, 345, 384]\n",
      "fit_q4 [25, 0, 0, 44, 0, 0, 0, 10, 0, 0, 0, 24, 0, 0, 0, 4, 0, 0, 50, 141, 0, 0, 0, 41, 0, 0, 0, 0, 0, 0, 0, 0, 0, 0, 0, 0, 0, 2, 7, 58, 0, 0, 0, 70, 0, 0, 0, 120, 0, 0, 108, 204, 0, 0, 73, 140, 0, 0, 0, 101, 0, 0, 182, 0, 0, 0, 11, 102, 0, 0, 0, 83, 0, 0, 98, 211, 0, 0, 136, 273, 0, 0, 148, 273, 0, 0, 101, 218, 0, 0, 105, 235, 0, 0, 107, 148, 134, 0, 115, 270, 0, 0, 139, 0]\n",
      "cost_operatori_q4 [2465, 220, 220, 4560, 140, 280, 280, 1215, 125, 205, 205, 2470, 130, 230, 230, 505, 105, 145, 4800, 12395, 450, 490, 490, 4460, 335, 515, 535, 475, 315, 455, 455, 395, 295, 375, 355, 315, 175, 350, 885, 5480, 290, 330, 310, 6535, 425, 465, 425, 10730, 550, 550, 9900, 17905, 1065, 965, 7360, 12950, 1130, 1190, 1070, 9670, 945, 925, 16300, 1370, 1050, 1070, 2055, 9730, 960, 1020, 900, 8130, 835, 835, 9310, 18710, 1355, 1275, 12690, 24175, 1810, 1690, 14060, 24525, 2060, 1900, 10400, 20135, 2045, 1905, 10745, 21520, 2045, 1925, 10945, 14400, 13215, 2045, 11720, 24520, 2370, 2130, 13795, 1920]\n",
      "cost_operator_q4 459805\n"
     ]
    }
   ],
   "source": [
    "fit_q4,maintain_operator_q4 = operator_num(operator_add_q4,need,num,c)\n",
    "cost2_q4,costi2_q4 = cost_operator_q4(operator_add_q4,maintain_operator_q4,fit_q4)\n",
    "print('operator_add_q4',operator_add_q4)\n",
    "print('maintain_operator_q4',maintain_operator_q4)\n",
    "print('fit_q4',fit_q4)\n",
    "print('cost_operatori_q4',costi2_q4)\n",
    "print('cost_operator_q4',cost2_q4)"
   ]
  },
  {
   "cell_type": "code",
   "execution_count": 168,
   "metadata": {},
   "outputs": [
    {
     "name": "stdout",
     "output_type": "stream",
     "text": [
      "cost_all 622865\n",
      "cost_all_q4 615305\n",
      "profits 7560\n"
     ]
    }
   ],
   "source": [
    "Cost_all = cost1 + cost2\n",
    "cost_all_q4 = cost1_q4 + cost2_q4\n",
    "profits = Cost_all - cost_all_q4\n",
    "print('cost_all',Cost_all)\n",
    "print('cost_all_q4',cost_all_q4)\n",
    "print('profits',profits)"
   ]
  },
  {
   "cell_type": "code",
   "execution_count": 169,
   "metadata": {},
   "outputs": [
    {
     "name": "stdout",
     "output_type": "stream",
     "text": [
      "boat_add_all_q4: 879\n",
      "operator_add_all_q4: 3902\n",
      "maintain_operator_all_q4: 16831\n",
      "maintain_boat_all_q4: 544\n",
      "fit_all_q4: 4311\n"
     ]
    }
   ],
   "source": [
    "boat_add_all_q4 = 0\n",
    "operator_add_all_q4 = 0\n",
    "maintain_boat_all_q4 = 0 \n",
    "maintain_operator_all_q4 = 0  \n",
    "fit_all_q4 = 0  \n",
    "for i in range(n):\n",
    "    boat_add_all_q4 = boat_add_all_q4 +boat_add_q4[i]\n",
    "    operator_add_all_q4 = operator_add_all_q4 + operator_add_q4[i]\n",
    "    maintain_boat_all_q4 = maintain_boat_all_q4 + maintain_boat_q4[i]\n",
    "    maintain_operator_all_q4 = maintain_operator_all_q4 + maintain_operator_q4[i]\n",
    "    fit_all_q4 = fit_all_q4 + fit_q4[i]\n",
    "print('boat_add_all_q4:',boat_add_all_q4)\n",
    "print('operator_add_all_q4:',operator_add_all_q4)\n",
    "print('maintain_operator_all_q4:',maintain_operator_all_q4)\n",
    "print('maintain_boat_all_q4:',maintain_boat_all_q4)\n",
    "print('fit_all_q4:',fit_all_q4)"
   ]
  },
  {
   "cell_type": "code",
   "execution_count": 170,
   "metadata": {},
   "outputs": [
    {
     "data": {
      "text/plain": [
       "True"
      ]
     },
     "execution_count": 170,
     "metadata": {},
     "output_type": "execute_result"
    }
   ],
   "source": [
    "reasonable_operator(operator_add_q4,need,num,c)"
   ]
  },
  {
   "cell_type": "code",
   "execution_count": 171,
   "metadata": {},
   "outputs": [
    {
     "name": "stdout",
     "output_type": "stream",
     "text": [
      "12\n",
      "boat_add_q4 5\n",
      "operator_add_q4 21\n",
      "maintain_operator_q4 26\n",
      "maintain_boat_q4 1\n",
      "fit_q4 24\n",
      "costi_q4: 3480\n",
      "26\n",
      "boat_add_q4 0\n",
      "operator_add_q4 0\n",
      "maintain_operator_q4 103\n",
      "maintain_boat_q4 9\n",
      "fit_q4 0\n",
      "costi_q4: 605\n",
      "52\n",
      "boat_add_q4 0\n",
      "operator_add_q4 185\n",
      "maintain_operator_q4 93\n",
      "maintain_boat_q4 26\n",
      "fit_q4 204\n",
      "costi_q4: 18165\n",
      "78\n",
      "boat_add_q4 38\n",
      "operator_add_q4 0\n",
      "maintain_operator_q4 255\n",
      "maintain_boat_q4 0\n",
      "fit_q4 0\n",
      "costi_q4: 7655\n",
      "101\n",
      "boat_add_q4 0\n",
      "operator_add_q4 0\n",
      "maintain_operator_q4 474\n",
      "maintain_boat_q4 12\n",
      "fit_q4 0\n",
      "costi_q4: 2490\n",
      "102\n",
      "boat_add_q4 42\n",
      "operator_add_q4 0\n",
      "maintain_operator_q4 426\n",
      "maintain_boat_q4 0\n",
      "fit_q4 0\n",
      "costi_q4: 9150\n",
      "103\n",
      "boat_add_q4 0\n",
      "operator_add_q4 126\n",
      "maintain_operator_q4 345\n",
      "maintain_boat_q4 25\n",
      "fit_q4 139\n",
      "costi_q4: 14045\n",
      "104\n",
      "boat_add_q4 0\n",
      "operator_add_q4 0\n",
      "maintain_operator_q4 384\n",
      "maintain_boat_q4 0\n",
      "fit_q4 0\n",
      "costi_q4: 1920\n"
     ]
    }
   ],
   "source": [
    "for i in [11,25,51,77,100,101,102,103]:\n",
    "    print(i+1)\n",
    "    print('boat_add_q4',boat_add_q4[i])\n",
    "    print('operator_add_q4',operator_add_q4[i])\n",
    "    print('maintain_operator_q4',maintain_operator_q4[i])\n",
    "    print('maintain_boat_q4',maintain_boat_q4[i])    \n",
    "    print('fit_q4',fit_q4[i])\n",
    "    # print('costi1_q4',costi1_q4[i])\n",
    "    # print('costi2_q4',costi2_q4[i])\n",
    "    print('costi_q4:',costi1_q4[i]+costi2_q4[i])"
   ]
  },
  {
   "cell_type": "markdown",
   "metadata": {},
   "source": [
    "问题5，使用saram算法进行预测，105-112周预计需求量为：127,110,112,117,137,123,122,119"
   ]
  },
  {
   "cell_type": "markdown",
   "metadata": {},
   "source": [
    "方案二"
   ]
  },
  {
   "cell_type": "code",
   "execution_count": 172,
   "metadata": {},
   "outputs": [
    {
     "name": "stdout",
     "output_type": "stream",
     "text": [
      "? 19\n",
      "? 93\n",
      "boat_add [0, 0, 0, 5, 0, 0, 0, 1, 0, 0, 0, 2, 0, 0, 0, 0, 0, 0, 2, 19, 0, 0, 0, 7, 0, 0, 0, 0, 0, 0, 0, 0, 0, 0, 0, 0, 0, 0, 0, 4, 0, 0, 0, 5, 0, 0, 5, 12, 0, 2, 15, 18, 0, 4, 8, 13, 0, 0, 1, 12, 0, 0, 6, 11, 0, 0, 2, 11, 0, 0, 0, 10, 0, 1, 11, 16, 0, 10, 16, 21, 0, 9, 18, 24, 0, 6, 11, 19, 0, 7, 10, 24, 0, 4, 10, 25, 1, 8, 14, 20, 1, 7, 16, 35, 0, 9, 16, 32, 0, 11, 9, 0, 0, 0]\n",
      "operator_add [18, 0, 0, 32, 0, 0, 0, 0, 0, 0, 0, 12, 0, 0, 0, 0, 0, 0, 5, 98, 49, 0, 0, 12, 0, 0, 0, 0, 0, 0, 0, 0, 0, 0, 0, 0, 0, 0, 0, 0, 0, 0, 0, 0, 0, 0, 20, 70, 30, 4, 67, 120, 53, 2, 30, 64, 0, 0, 0, 32, 0, 0, 4, 68, 0, 0, 2, 34, 0, 0, 0, 2, 26, 2, 43, 90, 41, 6, 105, 124, 49, 5, 94, 136, 53, 0, 6, 102, 0, 3, 62, 95, 1, 2, 59, 102, 64, 2, 43, 95, 1, 4, 88, 160, 79, 3, 61, 144, 76, 0, 0, 0, 0, 0]\n",
      "maintain_boat [2, 7, 8, 5, 0, 8, 8, 6, 0, 6, 6, 4, 0, 6, 7, 5, 1, 4, 4, 0, 0, 5, 7, 2, 0, 11, 14, 12, 5, 13, 13, 11, 6, 11, 11, 10, 3, 7, 6, 2, 0, 3, 3, 0, 0, 3, 2, 0, 0, 2, 0, 0, 0, 0, 0, 0, 0, 8, 7, 0, 0, 4, 1, 0, 0, 6, 4, 0, 0, 8, 5, 1, 0, 4, 0, 0, 0, 1, 0, 0, 0, 2, 0, 0, 0, 2, 0, 0, 0, 3, 0, 0, 0, 5, 0, 0, 0, 0, 0, 0, 0, 0, 0, 0, 0, 4, 0, 0, 0, 0, 0, 0, 107, 107]\n",
      "maintain_operator [5, 44, 48, 34, 28, 60, 60, 52, 24, 48, 48, 39, 28, 52, 56, 48, 32, 44, 43, 20, 44, 116, 124, 103, 80, 124, 136, 128, 100, 132, 132, 124, 104, 124, 124, 120, 92, 108, 104, 88, 64, 76, 76, 64, 44, 56, 51, 40, 64, 103, 88, 93, 144, 199, 184, 180, 196, 228, 224, 190, 176, 192, 179, 152, 180, 204, 195, 172, 164, 196, 184, 167, 124, 167, 147, 144, 172, 219, 176, 216, 260, 319, 276, 296, 340, 404, 371, 328, 360, 371, 331, 352, 355, 376, 340, 356, 360, 423, 391, 376, 395, 392, 364, 385, 409, 507, 455, 448, 468, 548, 504, 468, 896, 896]\n",
      "fit [19, 0, 0, 34, 0, 0, 0, 0, 0, 0, 0, 13, 0, 0, 0, 0, 0, 0, 6, 103, 52, 0, 0, 13, 0, 0, 0, 0, 0, 0, 0, 0, 0, 0, 0, 0, 0, 0, 0, 0, 0, 0, 0, 0, 0, 0, 21, 74, 32, 5, 71, 126, 56, 3, 32, 68, 0, 0, 0, 34, 0, 0, 5, 72, 0, 0, 3, 36, 0, 0, 0, 3, 28, 3, 46, 95, 44, 7, 111, 131, 52, 6, 99, 143, 56, 0, 7, 108, 0, 4, 66, 100, 2, 3, 62, 108, 68, 3, 46, 100, 2, 5, 93, 168, 83, 4, 65, 152, 80, 0, 0, 0, 0, 0]\n",
      "costi [2035, 290, 320, 4760, 140, 380, 380, 520, 120, 300, 300, 1965, 140, 320, 350, 290, 170, 260, 1215, 14730, 5640, 630, 690, 3265, 400, 730, 820, 760, 550, 790, 790, 730, 580, 730, 730, 700, 490, 610, 580, 1260, 320, 410, 410, 1320, 220, 310, 3485, 10340, 3640, 1385, 10850, 17325, 6580, 2025, 5840, 10580, 980, 1220, 1390, 6890, 880, 1000, 2555, 10480, 900, 1080, 1645, 6820, 820, 1060, 970, 3075, 3500, 1305, 7695, 13870, 5400, 3775, 15690, 18990, 6720, 3975, 15370, 21310, 7560, 3240, 4725, 16720, 1800, 3625, 10515, 17060, 1895, 2960, 10220, 18060, 9080, 3945, 9515, 16380, 2295, 3810, 14750, 26605, 10775, 4715, 12225, 24560, 10740, 4940, 4320, 2340, 5550, 5550]\n",
      "cost 555340\n",
      "cost_boat 124480\n",
      "cost_operator 430860\n"
     ]
    }
   ],
   "source": [
    "boat = 13\n",
    "operator = 50\n",
    "c = 0.1\n",
    "num = 20\n",
    "need = [11, 5, 4, 7, 16, 6, 5, 7, 13, 6, 5, 7, 12, 5, 4, 6, 9, 5, 5, 11, 29, 21, 17, 20, 27, 13, \n",
    "9, 10, 16, 6, 5, 7, 11, 5, 5, 6, 12, 7, 7, 10, 15, 10, 9, 11, 15, 10, 10, 16, 26, 21, 23, 36, \n",
    "50, 45, 45, 49, 57, 43, 40, 44, 52, 43, 42, 45, 52, 41, 39, 41, 48, 35, 34, 35, 42, 34, 36, 43, \n",
    "55, 48, 54, 65, 80, 70, 74, 85, 101, 89, 88, 90, 100, 87, 88, 89, 104, 89, 89, 90, 106, 96, 94, \n",
    "99, 109, 99, 96, 102,127,110,112,117,137,123,122,119]\n",
    "n = len(need)\n",
    "boat_add = [ 0 for j in range(n) ]\n",
    "operator_add = [ 0 for j in range(n) ]\n",
    "for i in range(n-1):\n",
    "    if (need[i+1] + round(c * need[i])) > boat:\n",
    "        boat_add[i] = need[i+1] + round(c * need[i]) - boat\n",
    "        boat = boat + boat_add[i]\n",
    "    if 4 * (need[i] + need[i+1]) > operator:\n",
    "        operator_add[i] = 4 * (need[i] + need[i+1] + round(c * need[i])) - operator\n",
    "        operator = operator + operator_add[i]\n",
    "    boat = boat - round(c * need[i])\n",
    "    operator = operator - 4 * round(c * need[i])\n",
    "\n",
    "#对operator - operator1 < 4 * need[i] + math.ceil(operator_add[i]/num)的情况对operator_add进行调整\n",
    "while reasonable_operator(operator_add,need,num,c) == False:\n",
    "    operator1 = 0\n",
    "    operator = 50\n",
    "    for i in range(n):\n",
    "        if operator - operator1 < 4 * need[i] + math.ceil(operator_add[i]/num):\n",
    "            operator_add[i-1] = operator_add[i-1] + math.ceil(operator_add[i]/num)\n",
    "            operator_add[i] = operator_add[i] - math.ceil(operator_add[i]/num)\n",
    "        operator1 = 4 * (need[i] - round(c * need[i]))\n",
    "        operator = operator + operator_add[i] - 4 * round(c * need[i])\n",
    "\n",
    "maintain_boat = boat_num(boat_add,need,c)\n",
    "fit,maintain_operator = operator_num(operator_add,need,num,c)\n",
    "cost,costi = cost_all(boat_add,operator_add,maintain_boat,maintain_operator,fit)\n",
    "cost1 = cost_boat(boat_add,maintain_boat)\n",
    "cost2 = cost_operator(operator_add,maintain_operator,fit)\n",
    "print('boat_add',boat_add)\n",
    "print('operator_add',operator_add)\n",
    "print('maintain_boat',maintain_boat)\n",
    "print('maintain_operator',maintain_operator)\n",
    "print('fit',fit)\n",
    "print('costi',costi)\n",
    "print('cost',cost)\n",
    "print('cost_boat',cost1)\n",
    "print('cost_operator',cost2)"
   ]
  },
  {
   "cell_type": "code",
   "execution_count": 173,
   "metadata": {},
   "outputs": [
    {
     "name": "stdout",
     "output_type": "stream",
     "text": [
      "1920\n"
     ]
    }
   ],
   "source": [
    "#调整boat_add\n",
    "change = True\n",
    "boat_add_q4 = np.array(boat_add)\n",
    "p = 0\n",
    "while change:\n",
    "    change = False\n",
    "    for i in range(3,len(boat_add)):\n",
    "        if i + 3 < len(boat_add):\n",
    "            temp = [boat_add_q4[i-3],boat_add_q4[i-2],boat_add_q4[i-1],boat_add_q4[i],boat_add_q4[i+1],boat_add_q4[i+2],boat_add_q4[i+3]]\n",
    "        if i  == len(boat_add)-3:\n",
    "            temp = [boat_add_q4[i-3],boat_add_q4[i-2],boat_add_q4[i-1],boat_add_q4[i],boat_add_q4[i+1],boat_add_q4[i+2],0]\n",
    "        if i == len(boat_add)-2:\n",
    "            temp = [boat_add_q4[i-3],boat_add_q4[i-2],boat_add_q4[i-1],boat_add_q4[i],boat_add_q4[i+1],0,0]\n",
    "        if i == len(boat_add) - 1:\n",
    "            temp = [boat_add_q4[i-3],boat_add_q4[i-2],boat_add_q4[i-1],boat_add_q4[i],0,0,0]\n",
    "        t,d,profit1 = Ischange_boat(temp)\n",
    "        if t:\n",
    "            change = True\n",
    "            p = p + profit1\n",
    "            boat_add_q4[i - d] = boat_add_q4[i - d] + boat_add_q4[i]\n",
    "            boat_add_q4[i] = 0\n",
    "for i in range(3,len(boat_add)):\n",
    "    temp = [boat_add_q4[i-3],boat_add_q4[i-2],boat_add_q4[i-1],boat_add_q4[i],0,0,0]\n",
    "    t,d,profit1 = Ischange_boat(temp)\n",
    "    if t:\n",
    "        change = True\n",
    "        p = p + profit1\n",
    "        boat_add_q4[i - d] = boat_add_q4[i - d] + boat_add_q4[i]\n",
    "        boat_add_q4[i] = 0\n",
    "print(p)"
   ]
  },
  {
   "cell_type": "code",
   "execution_count": 174,
   "metadata": {},
   "outputs": [
    {
     "name": "stdout",
     "output_type": "stream",
     "text": [
      "boat_add_q4 [ 0  0  0  5  0  0  0  1  0  0  0  2  0  0  0  0  0  0  2 19  0  0  0  7\n",
      "  0  0  0  0  0  0  0  0  0  0  0  0  0  0  0  4  0  0  0  5  0  0 19  0\n",
      "  0  0 37  0  0  0 21  0  0  0  1 12  0  0 17  0  0  0  2 11  0  0  0 11\n",
      "  0  0 27  0  0 26  0 30  0  0 42  0  0 17  0 19  0 17  0 28  0  0 36  0\n",
      "  0 22  0 28  0  0 16 35  0 25  0 32  0 20  0  0  0  0]\n",
      "maintain_boat_q4 [2, 7, 8, 5, 0, 8, 8, 6, 0, 6, 6, 4, 0, 6, 7, 5, 1, 4, 4, 0, 0, 5, 7, 2, 0, 11, 14, 12, 5, 13, 13, 11, 6, 11, 11, 10, 3, 7, 6, 2, 0, 3, 3, 0, 0, 3, 2, 14, 2, 4, 0, 22, 4, 4, 0, 13, 0, 8, 7, 0, 0, 4, 1, 11, 0, 6, 4, 0, 0, 8, 5, 1, 1, 5, 0, 16, 0, 1, 16, 0, 9, 11, 0, 24, 0, 2, 11, 0, 0, 3, 10, 0, 4, 9, 0, 26, 1, 0, 14, 0, 8, 7, 0, 0, 0, 4, 16, 0, 0, 0, 9, 0, 107, 107]\n",
      "cost_boati_q4 [20, 70, 80, 1050, 0, 80, 80, 260, 0, 60, 60, 440, 0, 60, 70, 50, 10, 40, 440, 3340, 0, 50, 70, 1380, 0, 110, 140, 120, 50, 130, 130, 110, 60, 110, 110, 100, 30, 70, 60, 820, 0, 30, 30, 1000, 0, 30, 3360, 140, 20, 40, 6220, 220, 40, 40, 3660, 130, 0, 80, 270, 2220, 0, 40, 3030, 110, 0, 60, 440, 2060, 0, 80, 50, 2070, 10, 50, 4620, 160, 0, 4470, 160, 5100, 90, 110, 7020, 240, 0, 3040, 110, 3340, 0, 3050, 100, 4780, 40, 90, 6060, 260, 10, 3820, 140, 4780, 80, 70, 2860, 5900, 0, 4340, 160, 5420, 0, 3500, 90, 0, 1070, 1070]\n",
      "cost_boat_q4 111540\n"
     ]
    }
   ],
   "source": [
    "maintain_boat_q4 = boat_num(boat_add_q4,need,c)\n",
    "cost1_q4,costi1_q4 = cost_boat_q4(boat_add_q4,maintain_boat_q4)\n",
    "print('boat_add_q4',boat_add_q4)\n",
    "print('maintain_boat_q4',maintain_boat_q4)\n",
    "print('cost_boati_q4',costi1_q4)\n",
    "print('cost_boat_q4',cost1_q4)"
   ]
  },
  {
   "cell_type": "code",
   "execution_count": 175,
   "metadata": {},
   "outputs": [
    {
     "name": "stdout",
     "output_type": "stream",
     "text": [
      "? 19\n",
      "4275\n"
     ]
    }
   ],
   "source": [
    "#调整operator_add\n",
    "change = True\n",
    "operator_add_q4 = np.array(operator_add)\n",
    "p = 0\n",
    "while change:\n",
    "    change = False\n",
    "    for i in range(3,len(operator_add)):\n",
    "        if i + 3 < len(operator_add):\n",
    "            temp = [operator_add_q4[i-3],operator_add_q4[i-2],operator_add_q4[i-1],operator_add_q4[i],operator_add_q4[i+1],operator_add_q4[i+2],operator_add_q4[i+3]]\n",
    "        if i  == len(operator_add)-3:\n",
    "            temp = [operator_add_q4[i-3],operator_add_q4[i-2],operator_add_q4[i-1],operator_add_q4[i],operator_add_q4[i+1],operator_add_q4[i+2],0]\n",
    "        if i == len(operator_add)-2:\n",
    "            temp = [operator_add_q4[i-3],operator_add_q4[i-2],operator_add_q4[i-1],operator_add_q4[i],operator_add_q4[i+1],0,0]\n",
    "        if i == len(operator_add) - 1:\n",
    "            temp = [operator_add_q4[i-3],operator_add_q4[i-2],operator_add_q4[i-1],operator_add_q4[i],0,0,0]\n",
    "        t,d,profit1 = Ischange_operator(temp,num)\n",
    "        if t:\n",
    "            change = True\n",
    "            p = p + profit1\n",
    "            operator_add_q4[i - d] = operator_add_q4[i - d] + operator_add_q4[i]\n",
    "            operator_add_q4[i] = 0\n",
    "    #合理性调整\n",
    "    while reasonable_operator(operator_add_q4,need,num,c) == False:\n",
    "        operator1 = 0\n",
    "        operator = 50\n",
    "        for i in range(n):\n",
    "            if operator - operator1 < 4 * need[i] + math.ceil(operator_add_q4[i]/num):\n",
    "                operator_add_q4[i-1] = operator_add_q4[i-1] + math.ceil(operator_add_q4[i]/num)\n",
    "                operator_add_q4[i] = operator_add_q4[i] - math.ceil(operator_add_q4[i]/num)\n",
    "            operator1 = 4 * (need[i] - round(c * need[i]))\n",
    "            operator = operator + operator_add_q4[i] - 4 * round(c * need[i])\n",
    "\n",
    "for i in range(3,len(operator_add)):\n",
    "    temp = [operator_add_q4[i-3],operator_add_q4[i-2],operator_add_q4[i-1],operator_add_q4[i],0,0,0]\n",
    "    t,d,profit1 = Ischange_operator(temp,num)\n",
    "    if t:\n",
    "        change = True\n",
    "        p = p + profit1\n",
    "        operator_add_q4[i - d] = operator_add_q4[i - d] + operator_add_q4[i]\n",
    "        operator_add_q4[i] = 0\n",
    "#合理性调整\n",
    "while reasonable_operator(operator_add_q4,need,num,c) == False:\n",
    "    operator1 = 0\n",
    "    operator = 50\n",
    "    for i in range(n):\n",
    "        if operator - operator1 < 4 * need[i] + math.ceil(operator_add_q4[i]/num):\n",
    "            operator_add_q4[i-1] = operator_add_q4[i-1] + math.ceil(operator_add_q4[i]/num)\n",
    "            operator_add_q4[i] = operator_add_q4[i] - math.ceil(operator_add_q4[i]/num)\n",
    "        operator1 = 4 * (need[i] - round(c * need[i]))\n",
    "        operator = operator + operator_add_q4[i] - 4 * round(c * need[i])\n",
    "print(p)"
   ]
  },
  {
   "cell_type": "code",
   "execution_count": 176,
   "metadata": {},
   "outputs": [
    {
     "name": "stdout",
     "output_type": "stream",
     "text": [
      "[18, 0, 0, 32, 0, 0, 0, 0, 0, 0, 0, 12, 0, 0, 0, 0, 0, 0, 5, 98, 49, 0, 0, 12, 0, 0, 0, 0, 0, 0, 0, 0, 0, 0, 0, 0, 0, 0, 0, 0, 0, 0, 0, 0, 0, 0, 20, 70, 30, 4, 67, 120, 53, 2, 30, 64, 0, 0, 0, 32, 0, 0, 4, 68, 0, 0, 2, 34, 0, 0, 0, 2, 26, 2, 43, 90, 41, 6, 105, 124, 49, 5, 94, 136, 53, 0, 6, 102, 0, 3, 62, 95, 1, 2, 59, 102, 64, 2, 43, 95, 1, 4, 88, 160, 79, 3, 61, 144, 76, 0, 0, 0, 0, 0]\n"
     ]
    }
   ],
   "source": [
    "print(operator_add)"
   ]
  },
  {
   "cell_type": "code",
   "execution_count": 177,
   "metadata": {},
   "outputs": [
    {
     "name": "stdout",
     "output_type": "stream",
     "text": [
      "operator_add_q4 [ 18   0   0  32   0   0   0   0   0   0   0  12   0   0   0   0   0   0\n",
      "  13 139   0   0   0  12   0   0   0   0   0   0   0   0   0   0   0   0\n",
      "   0   0   0   0   0   0   0   0   0   0  26 102   0   0  72 171   0   0\n",
      "  89   0   0   0   0  33   0   0   7  68   0   0   0  32   0   0   0   4\n",
      "  76   0   0 136   0   0 108 174   0   0  99 191   0   0   0 107   0   0\n",
      " 155   0   0   0  65 167   0   0 140   0   0   0  96 233   0   0  68 209\n",
      "   0   0   0   0   0   0]\n",
      "maintain_operator_q4 [5, 44, 48, 34, 28, 60, 60, 52, 24, 48, 48, 39, 28, 52, 56, 48, 32, 44, 43, 26, 96, 116, 124, 103, 80, 124, 136, 128, 100, 132, 132, 124, 104, 124, 124, 120, 92, 108, 104, 88, 64, 76, 76, 64, 44, 56, 50, 44, 104, 112, 92, 99, 207, 207, 186, 248, 196, 228, 224, 190, 177, 193, 180, 156, 184, 208, 200, 174, 164, 196, 184, 167, 124, 220, 200, 149, 228, 232, 182, 223, 322, 330, 281, 303, 408, 416, 384, 334, 371, 383, 335, 458, 362, 382, 342, 362, 438, 434, 395, 486, 406, 402, 369, 394, 499, 515, 459, 456, 548, 548, 504, 468, 896, 896]\n",
      "fit_q4 [19, 0, 0, 34, 0, 0, 0, 0, 0, 0, 0, 13, 0, 0, 0, 0, 0, 0, 14, 146, 0, 0, 0, 13, 0, 0, 0, 0, 0, 0, 0, 0, 0, 0, 0, 0, 0, 0, 0, 0, 0, 0, 0, 0, 0, 0, 28, 108, 0, 0, 76, 180, 0, 0, 94, 0, 0, 0, 0, 35, 0, 0, 8, 72, 0, 0, 0, 34, 0, 0, 0, 5, 80, 0, 0, 143, 0, 0, 114, 183, 0, 0, 104, 201, 0, 0, 0, 113, 0, 0, 163, 0, 0, 0, 69, 176, 0, 0, 147, 0, 0, 0, 101, 245, 0, 0, 72, 220, 0, 0, 0, 0, 0, 0]\n",
      "cost_operatori_q4 [2015, 220, 240, 3710, 140, 300, 300, 260, 120, 240, 240, 1525, 140, 260, 280, 240, 160, 220, 1655, 13310, 480, 580, 620, 1845, 400, 620, 680, 640, 500, 660, 660, 620, 520, 620, 620, 600, 460, 540, 520, 440, 320, 380, 380, 320, 220, 280, 3130, 10060, 520, 560, 7580, 16575, 1035, 1035, 9590, 1240, 980, 1140, 1120, 4600, 885, 965, 1680, 7540, 920, 1040, 1000, 4410, 820, 980, 920, 1285, 8100, 1100, 1000, 13655, 1140, 1160, 11290, 17465, 1610, 1650, 10965, 19405, 2040, 2080, 1920, 11960, 1855, 1915, 16305, 2490, 1810, 1910, 8200, 17530, 2190, 2170, 15245, 2430, 2030, 2010, 11135, 23660, 2495, 2575, 9055, 21800, 2740, 2740, 2520, 2340, 4480, 4480]\n",
      "cost_operator_q4 396360\n"
     ]
    }
   ],
   "source": [
    "fit_q4,maintain_operator_q4 = operator_num(operator_add_q4,need,num,c)\n",
    "cost2_q4,costi2_q4 = cost_operator_q4(operator_add_q4,maintain_operator_q4,fit_q4)\n",
    "print('operator_add_q4',operator_add_q4)\n",
    "print('maintain_operator_q4',maintain_operator_q4)\n",
    "print('fit_q4',fit_q4)\n",
    "print('cost_operatori_q4',costi2_q4)\n",
    "print('cost_operator_q4',cost2_q4)"
   ]
  },
  {
   "cell_type": "code",
   "execution_count": 178,
   "metadata": {},
   "outputs": [
    {
     "name": "stdout",
     "output_type": "stream",
     "text": [
      "boat_add_all_q4: 596\n",
      "operator_add_all_q4: 2854\n",
      "maintain_operator_all_q4: 24272\n",
      "maintain_boat_all_q4: 786\n",
      "fit_all_q4: 3010\n"
     ]
    }
   ],
   "source": [
    "boat_add_all_q4 = 0\n",
    "operator_add_all_q4 = 0\n",
    "maintain_boat_all_q4 = 0 \n",
    "maintain_operator_all_q4 = 0  \n",
    "fit_all_q4 = 0  \n",
    "for i in range(n):\n",
    "    boat_add_all_q4 = boat_add_all_q4 +boat_add_q4[i]\n",
    "    operator_add_all_q4 = operator_add_all_q4 + operator_add_q4[i]\n",
    "    maintain_boat_all_q4 = maintain_boat_all_q4 + maintain_boat_q4[i]\n",
    "    maintain_operator_all_q4 = maintain_operator_all_q4 + maintain_operator_q4[i]\n",
    "    fit_all_q4 = fit_all_q4 + fit_q4[i]\n",
    "print('boat_add_all_q4:',boat_add_all_q4)\n",
    "print('operator_add_all_q4:',operator_add_all_q4)\n",
    "print('maintain_operator_all_q4:',maintain_operator_all_q4)\n",
    "print('maintain_boat_all_q4:',maintain_boat_all_q4)\n",
    "print('fit_all_q4:',fit_all_q4)"
   ]
  },
  {
   "cell_type": "code",
   "execution_count": 179,
   "metadata": {},
   "outputs": [
    {
     "name": "stdout",
     "output_type": "stream",
     "text": [
      "cost_all 555340\n",
      "cost_all_q4 507900\n",
      "profits 47440\n"
     ]
    }
   ],
   "source": [
    "Cost_all = cost1 + cost2\n",
    "cost_all_q4 = cost1_q4 + cost2_q4\n",
    "profits = Cost_all - cost_all_q4\n",
    "print('cost_all',Cost_all)\n",
    "print('cost_all_q4',cost_all_q4)\n",
    "print('profits',profits)"
   ]
  },
  {
   "cell_type": "code",
   "execution_count": 180,
   "metadata": {},
   "outputs": [
    {
     "name": "stdout",
     "output_type": "stream",
     "text": [
      "101\n",
      "boat_add_q4 0\n",
      "operator_add_q4 0\n",
      "maintain_operator_q4 406\n",
      "maintain_boat_q4 8\n",
      "fit_q4 0\n",
      "costi_q4: 2110\n",
      "102\n",
      "boat_add_q4 0\n",
      "operator_add_q4 0\n",
      "maintain_operator_q4 402\n",
      "maintain_boat_q4 7\n",
      "fit_q4 0\n",
      "costi_q4: 2080\n",
      "103\n",
      "boat_add_q4 16\n",
      "operator_add_q4 96\n",
      "maintain_operator_q4 369\n",
      "maintain_boat_q4 0\n",
      "fit_q4 101\n",
      "costi_q4: 13995\n",
      "104\n",
      "boat_add_q4 35\n",
      "operator_add_q4 233\n",
      "maintain_operator_q4 394\n",
      "maintain_boat_q4 0\n",
      "fit_q4 245\n",
      "costi_q4: 29560\n",
      "105\n",
      "boat_add_q4 0\n",
      "operator_add_q4 0\n",
      "maintain_operator_q4 499\n",
      "maintain_boat_q4 0\n",
      "fit_q4 0\n",
      "costi_q4: 2495\n",
      "106\n",
      "boat_add_q4 25\n",
      "operator_add_q4 0\n",
      "maintain_operator_q4 515\n",
      "maintain_boat_q4 4\n",
      "fit_q4 0\n",
      "costi_q4: 6915\n",
      "107\n",
      "boat_add_q4 0\n",
      "operator_add_q4 68\n",
      "maintain_operator_q4 459\n",
      "maintain_boat_q4 16\n",
      "fit_q4 72\n",
      "costi_q4: 9215\n",
      "108\n",
      "boat_add_q4 32\n",
      "operator_add_q4 209\n",
      "maintain_operator_q4 456\n",
      "maintain_boat_q4 0\n",
      "fit_q4 220\n",
      "costi_q4: 27220\n",
      "109\n",
      "boat_add_q4 0\n",
      "operator_add_q4 0\n",
      "maintain_operator_q4 548\n",
      "maintain_boat_q4 0\n",
      "fit_q4 0\n",
      "costi_q4: 2740\n",
      "110\n",
      "boat_add_q4 20\n",
      "operator_add_q4 0\n",
      "maintain_operator_q4 548\n",
      "maintain_boat_q4 0\n",
      "fit_q4 0\n",
      "costi_q4: 6240\n",
      "111\n",
      "boat_add_q4 0\n",
      "operator_add_q4 0\n",
      "maintain_operator_q4 504\n",
      "maintain_boat_q4 9\n",
      "fit_q4 0\n",
      "costi_q4: 2610\n",
      "112\n",
      "boat_add_q4 0\n",
      "operator_add_q4 0\n",
      "maintain_operator_q4 468\n",
      "maintain_boat_q4 0\n",
      "fit_q4 0\n",
      "costi_q4: 2340\n"
     ]
    }
   ],
   "source": [
    "for i in [100,101,102,103,104,105,106,107,108,109,110,111]:\n",
    "    print(i+1)\n",
    "    print('boat_add_q4',boat_add_q4[i])\n",
    "    print('operator_add_q4',operator_add_q4[i])\n",
    "    print('maintain_operator_q4',maintain_operator_q4[i])\n",
    "    print('maintain_boat_q4',maintain_boat_q4[i])    \n",
    "    print('fit_q4',fit_q4[i])\n",
    "    # print('costi1_q4',costi1_q4[i])\n",
    "    # print('costi2_q4',costi2_q4[i])\n",
    "    print('costi_q4:',costi1_q4[i]+costi2_q4[i])"
   ]
  },
  {
   "cell_type": "markdown",
   "metadata": {},
   "source": [
    "方案一"
   ]
  },
  {
   "cell_type": "code",
   "execution_count": 181,
   "metadata": {},
   "outputs": [],
   "source": [
    "#第105周开始时艇和操作员的数量operator_ok为105周可用的操作员\n",
    "boat = 92\n",
    "operator = 752\n",
    "operator1 = 368\n",
    "need = [127,110,112,117,137,123,122,119]\n",
    "boat_add_new = [0]*8\n",
    "operator_add_new = [0]*8"
   ]
  },
  {
   "cell_type": "code",
   "execution_count": 182,
   "metadata": {},
   "outputs": [],
   "source": [
    "#为了满足105和106周的需求\n",
    "if need[0] > need[1] + round(c * need[0]):\n",
    "    boat105 = need[0] - boat\n",
    "else:\n",
    "    boat105 = need[1] + round(c * need[0]) - boat\n",
    "operator105 = 196"
   ]
  },
  {
   "cell_type": "code",
   "execution_count": 183,
   "metadata": {},
   "outputs": [],
   "source": [
    "#对操作员的购买计划进行合理性分析\n",
    "def reasonable_operator(operator_add,need,num,c):\n",
    "    t = True\n",
    "    operator = 948\n",
    "    n = len(operator_add)\n",
    "    operator1 = 368\n",
    "    for i in range(n):\n",
    "        if operator - operator1 < 4 * need[i] + math.ceil(operator_add[i]/num):\n",
    "            t = False\n",
    "            return t\n",
    "        operator1 = 4 * (need[i] - round(c * need[i]))\n",
    "        operator = operator + operator_add[i] - 4 * round(c * need[i])\n",
    "    return t"
   ]
  },
  {
   "cell_type": "code",
   "execution_count": 184,
   "metadata": {},
   "outputs": [],
   "source": [
    "def operator_num(operator_add,need,num,c):\n",
    "    operator = 948\n",
    "    n = len(operator_add)\n",
    "    maintain_operator = [ 0 for i in range(n) ]\n",
    "    fit = [ 0 for i in range(n) ]\n",
    "    for i in range(n):\n",
    "        fit[i] = operator_add[i] + math.ceil(operator_add[i]/num)\n",
    "        maintain_operator[i] = operator - 4 * need[i] - math.ceil(operator_add[i]/num)\n",
    "        operator = operator + operator_add[i] - 4 * round(c * need[i])\n",
    "    return fit,maintain_operator"
   ]
  },
  {
   "cell_type": "code",
   "execution_count": 185,
   "metadata": {},
   "outputs": [],
   "source": [
    "def boat_num(boat_add,need,c):\n",
    "    boat = 127\n",
    "    n = len(boat_add)\n",
    "    maintain_boat = [ 0 for i in range(n) ]\n",
    "\n",
    "    for i in range(n):\n",
    "        maintain_boat[i] = boat - need[i]\n",
    "        boat = boat + boat_add[i] - round(c * need[i])\n",
    "    return maintain_boat"
   ]
  },
  {
   "cell_type": "code",
   "execution_count": 186,
   "metadata": {},
   "outputs": [
    {
     "name": "stdout",
     "output_type": "stream",
     "text": [
      "boat_add [0, 9, 16, 32, 0, 11, 9, 0]\n",
      "operator_add [0, 0, 108, 148, 80, 0, 0, 0]\n",
      "maintain_boat [0, 4, 0, 0, 0, 0, 0, 0]\n",
      "maintain_operator [440, 456, 398, 440, 464, 548, 504, 468]\n",
      "fit [0, 0, 114, 156, 84, 0, 0, 0]\n",
      "costi [2200, 4120, 17130, 24960, 11160, 4940, 4320, 2340]\n",
      "cost 71170\n",
      "cost_boat 15440\n",
      "cost_operator 55730\n"
     ]
    }
   ],
   "source": [
    "operator = 948\n",
    "boat = 127\n",
    "boat_add = [0]*8\n",
    "operator_add = [0]*8\n",
    "n = len(need)\n",
    "for i in range(n-1):\n",
    "    if (need[i+1] + round(c * need[i])) > boat:\n",
    "        boat_add[i] = need[i+1] + round(c * need[i]) - boat\n",
    "        boat = boat + boat_add[i]\n",
    "    if 4 * (need[i] + need[i+1]) > operator:\n",
    "        operator_add[i] = 4 * (need[i] + need[i+1] + round(c * need[i])) - operator\n",
    "        operator = operator + operator_add[i]\n",
    "    boat = boat - round(c * need[i])\n",
    "    operator = operator - 4 * round(c * need[i])\n",
    "#对operator - operator1 < 4 * need[i] + math.ceil(operator_add[i]/num)的情况对operator_add进行调整\n",
    "while reasonable_operator(operator_add,need,num,c) == False:\n",
    "    operator1 = 368\n",
    "    operator = 948\n",
    "    for i in range(n):\n",
    "        if operator - operator1 < 4 * need[i] + math.ceil(operator_add[i]/num):\n",
    "            operator_add[i-1] = operator_add[i-1] + math.ceil(operator_add[i]/num)\n",
    "            operator_add[i] = operator_add[i] - math.ceil(operator_add[i]/num)\n",
    "        operator1 = 4 * (need[i] - round(c * need[i]))\n",
    "        operator = operator + operator_add[i] - 4 * round(c * need[i])\n",
    "\n",
    "maintain_boat = boat_num(boat_add,need,c)\n",
    "fit,maintain_operator = operator_num(operator_add,need,num,c)\n",
    "cost,costi = cost_all(boat_add,operator_add,maintain_boat,maintain_operator,fit)\n",
    "cost1 = cost_boat(boat_add,maintain_boat)\n",
    "cost2 = cost_operator(operator_add,maintain_operator,fit)\n",
    "print('boat_add',boat_add)\n",
    "print('operator_add',operator_add)\n",
    "print('maintain_boat',maintain_boat)\n",
    "print('maintain_operator',maintain_operator)\n",
    "print('fit',fit)\n",
    "print('costi',costi)\n",
    "print('cost',cost)\n",
    "print('cost_boat',cost1)\n",
    "print('cost_operator',cost2)"
   ]
  },
  {
   "cell_type": "code",
   "execution_count": 187,
   "metadata": {},
   "outputs": [
    {
     "name": "stdout",
     "output_type": "stream",
     "text": [
      "2\n",
      "3\n",
      "310\n"
     ]
    }
   ],
   "source": [
    "#调整boat_add\n",
    "change = True\n",
    "boat_add_q4 = np.array(boat_add)\n",
    "p = 0\n",
    "while change:\n",
    "    change = False\n",
    "    temp = [0,0,boat_add_q4[0],boat_add_q4[1],boat_add_q4[2],boat_add_q4[3],boat_add_q4[4]]\n",
    "    t,d,profit1 = Ischange_boat(temp)\n",
    "    if t:\n",
    "        print(1)\n",
    "        change = True\n",
    "        p = p + profit1\n",
    "        boat_add_q4[1 - d] = boat_add_q4[1 - d] + boat_add_q4[1]\n",
    "        boat_add_q4[1] = 0\n",
    "\n",
    "    temp = [0,boat_add_q4[0],boat_add_q4[1],boat_add_q4[2],boat_add_q4[3],boat_add_q4[4],boat_add_q4[5]]\n",
    "    t,d,profit1 = Ischange_boat(temp)\n",
    "    if t:\n",
    "        print(2)\n",
    "        change = True\n",
    "        p = p + profit1\n",
    "        boat_add_q4[2 - d] = boat_add_q4[2 - d] + boat_add_q4[2]\n",
    "        boat_add_q4[2] = 0    \n",
    "    for i in range(3,len(boat_add)):\n",
    "        if i + 3 < len(boat_add):\n",
    "            temp = [boat_add_q4[i-3],boat_add_q4[i-2],boat_add_q4[i-1],boat_add_q4[i],boat_add_q4[i+1],boat_add_q4[i+2],boat_add_q4[i+3]]\n",
    "        if i  == len(boat_add)-3:\n",
    "            temp = [boat_add_q4[i-3],boat_add_q4[i-2],boat_add_q4[i-1],boat_add_q4[i],boat_add_q4[i+1],boat_add_q4[i+2],0]\n",
    "        if i == len(boat_add)-2:\n",
    "            temp = [boat_add_q4[i-3],boat_add_q4[i-2],boat_add_q4[i-1],boat_add_q4[i],boat_add_q4[i+1],0,0]\n",
    "        if i == len(boat_add) - 1:\n",
    "            temp = [boat_add_q4[i-3],boat_add_q4[i-2],boat_add_q4[i-1],boat_add_q4[i],0,0,0]\n",
    "        t,d,profit1 = Ischange_boat(temp)\n",
    "        if t:\n",
    "            print(3)\n",
    "            change = True\n",
    "            p = p + profit1\n",
    "            boat_add_q4[i - d] = boat_add_q4[i - d] + boat_add_q4[i]\n",
    "            boat_add_q4[i] = 0\n",
    "for i in range(3,len(boat_add)):\n",
    "    temp = [boat_add_q4[i-3],boat_add_q4[i-2],boat_add_q4[i-1],boat_add_q4[i],0,0,0]\n",
    "    t,d,profit1 = Ischange_boat(temp)\n",
    "    if t:\n",
    "        change = True\n",
    "        p = p + profit1\n",
    "        boat_add_q4[i - d] = boat_add_q4[i - d] + boat_add_q4[i]\n",
    "        boat_add_q4[i] = 0\n",
    "print(p)"
   ]
  },
  {
   "cell_type": "code",
   "execution_count": 188,
   "metadata": {},
   "outputs": [
    {
     "name": "stdout",
     "output_type": "stream",
     "text": [
      "boat_add_q4 [ 0 25  0 32  0 20  0  0]\n",
      "maintain_boat_q4 [0, 4, 16, 0, 0, 0, 9, 0]\n",
      "cost_boati_q4 [0, 4340, 160, 5420, 0, 3500, 90, 0]\n",
      "cost_boat_q4 13510\n"
     ]
    }
   ],
   "source": [
    "maintain_boat_q4 = boat_num(boat_add_q4,need,c)\n",
    "cost1_q4,costi1_q4 = cost_boat_q4(boat_add_q4,maintain_boat_q4)\n",
    "print('boat_add_q4',boat_add_q4)\n",
    "print('maintain_boat_q4',maintain_boat_q4)\n",
    "print('cost_boati_q4',costi1_q4)\n",
    "print('cost_boat_q4',cost1_q4)"
   ]
  },
  {
   "cell_type": "code",
   "execution_count": 189,
   "metadata": {},
   "outputs": [
    {
     "name": "stdout",
     "output_type": "stream",
     "text": [
      "3\n",
      "200\n"
     ]
    }
   ],
   "source": [
    "#调整operator_add\n",
    "change = True\n",
    "operator_add_q4 = np.array(operator_add)\n",
    "p = 0\n",
    "while change:\n",
    "    change = False \n",
    "    for i in range(3,len(operator_add)):\n",
    "        if i + 3 < len(operator_add):\n",
    "            temp = [operator_add_q4[i-3],operator_add_q4[i-2],operator_add_q4[i-1],operator_add_q4[i],operator_add_q4[i+1],operator_add_q4[i+2],operator_add_q4[i+3]]\n",
    "        if i  == len(operator_add)-3:\n",
    "            temp = [operator_add_q4[i-3],operator_add_q4[i-2],operator_add_q4[i-1],operator_add_q4[i],operator_add_q4[i+1],operator_add_q4[i+2],0]\n",
    "        if i == len(operator_add)-2:\n",
    "            temp = [operator_add_q4[i-3],operator_add_q4[i-2],operator_add_q4[i-1],operator_add_q4[i],operator_add_q4[i+1],0,0]\n",
    "        if i == len(operator_add) - 1:\n",
    "            temp = [operator_add_q4[i-3],operator_add_q4[i-2],operator_add_q4[i-1],operator_add_q4[i],0,0,0]\n",
    "        t,d,profit1 = Ischange_operator(temp,num)\n",
    "        if t:\n",
    "            print(3)\n",
    "            change = True\n",
    "            p = p + profit1\n",
    "            operator_add_q4[i - d] = operator_add_q4[i - d] + operator_add_q4[i]\n",
    "            operator_add_q4[i] = 0\n",
    "    #合理性调整\n",
    "    while reasonable_operator(operator_add_q4,need,num,c) == False:\n",
    "        operator1 = 0\n",
    "        operator = 50\n",
    "        for i in range(n):\n",
    "            if operator - operator1 < 4 * need[i] + math.ceil(operator_add_q4[i]/num):\n",
    "                operator_add_q4[i-1] = operator_add_q4[i-1] + math.ceil(operator_add_q4[i]/num)\n",
    "                operator_add_q4[i] = operator_add_q4[i] - math.ceil(operator_add_q4[i]/num)\n",
    "            operator1 = 4 * (need[i] - round(c * need[i]))\n",
    "            operator = operator + operator_add_q4[i] - 4 * round(c * need[i])\n",
    "\n",
    "for i in range(3,len(operator_add)):\n",
    "    temp = [operator_add_q4[i-3],operator_add_q4[i-2],operator_add_q4[i-1],operator_add_q4[i],0,0,0]\n",
    "    t,d,profit1 = Ischange_operator(temp,num)\n",
    "    if t:\n",
    "        change = True\n",
    "        p = p + profit1\n",
    "        operator_add_q4[i - d] = operator_add_q4[i - d] + operator_add_q4[i]\n",
    "        operator_add_q4[i] = 0\n",
    "#合理性调整\n",
    "while reasonable_operator(operator_add_q4,need,num,c) == False:\n",
    "    operator1 = 0\n",
    "    operator = 50\n",
    "    for i in range(n):\n",
    "        if operator - operator1 < 4 * need[i] + math.ceil(operator_add_q4[i]/num):\n",
    "            operator_add_q4[i-1] = operator_add_q4[i-1] + math.ceil(operator_add_q4[i]/num)\n",
    "            operator_add_q4[i] = operator_add_q4[i] - math.ceil(operator_add_q4[i]/num)\n",
    "        operator1 = 4 * (need[i] - round(c * need[i]))\n",
    "        operator = operator + operator_add_q4[i] - 4 * round(c * need[i])\n",
    "print(p)"
   ]
  },
  {
   "cell_type": "code",
   "execution_count": 190,
   "metadata": {},
   "outputs": [
    {
     "name": "stdout",
     "output_type": "stream",
     "text": [
      "operator_add_q4 [  0   0 108 228   0   0   0   0]\n",
      "maintain_operator_q4 [440, 456, 398, 436, 548, 548, 504, 468]\n",
      "fit_q4 [0, 0, 114, 240, 0, 0, 0, 0]\n",
      "cost_operatori_q4 [2200, 2280, 12370, 23420, 2740, 2740, 2520, 2340]\n",
      "cost_operator_q4 50610\n"
     ]
    }
   ],
   "source": [
    "fit_q4,maintain_operator_q4 = operator_num(operator_add_q4,need,num,c)\n",
    "cost2_q4,costi2_q4 = cost_operator_q4(operator_add_q4,maintain_operator_q4,fit_q4)\n",
    "print('operator_add_q4',operator_add_q4)\n",
    "print('maintain_operator_q4',maintain_operator_q4)\n",
    "print('fit_q4',fit_q4)\n",
    "print('cost_operatori_q4',costi2_q4)\n",
    "print('cost_operator_q4',cost2_q4)"
   ]
  },
  {
   "cell_type": "code",
   "execution_count": 191,
   "metadata": {},
   "outputs": [
    {
     "name": "stdout",
     "output_type": "stream",
     "text": [
      "boat_add_all_q4: 77\n",
      "operator_add_all_q4: 336\n",
      "maintain_operator_all_q4: 3798\n",
      "maintain_boat_all_q4: 29\n",
      "fit_all_q4: 354\n"
     ]
    }
   ],
   "source": [
    "boat_add_all_q4 = 0\n",
    "operator_add_all_q4 = 0\n",
    "maintain_boat_all_q4 = 0 \n",
    "maintain_operator_all_q4 = 0  \n",
    "fit_all_q4 = 0  \n",
    "for i in range(n):\n",
    "    boat_add_all_q4 = boat_add_all_q4 +boat_add_q4[i]\n",
    "    operator_add_all_q4 = operator_add_all_q4 + operator_add_q4[i]\n",
    "    maintain_boat_all_q4 = maintain_boat_all_q4 + maintain_boat_q4[i]\n",
    "    maintain_operator_all_q4 = maintain_operator_all_q4 + maintain_operator_q4[i]\n",
    "    fit_all_q4 = fit_all_q4 + fit_q4[i]\n",
    "print('boat_add_all_q4:',boat_add_all_q4)\n",
    "print('operator_add_all_q4:',operator_add_all_q4)\n",
    "print('maintain_operator_all_q4:',maintain_operator_all_q4)\n",
    "print('maintain_boat_all_q4:',maintain_boat_all_q4)\n",
    "print('fit_all_q4:',fit_all_q4)"
   ]
  },
  {
   "cell_type": "code",
   "execution_count": 192,
   "metadata": {},
   "outputs": [
    {
     "name": "stdout",
     "output_type": "stream",
     "text": [
      "105\n",
      "boat_add_q4 0\n",
      "operator_add_q4 0\n",
      "maintain_operator_q4 440\n",
      "maintain_boat_q4 0\n",
      "fit_q4 0\n",
      "costi_q4: 2200\n",
      "106\n",
      "boat_add_q4 25\n",
      "operator_add_q4 0\n",
      "maintain_operator_q4 456\n",
      "maintain_boat_q4 4\n",
      "fit_q4 0\n",
      "costi_q4: 6620\n",
      "107\n",
      "boat_add_q4 0\n",
      "operator_add_q4 108\n",
      "maintain_operator_q4 398\n",
      "maintain_boat_q4 16\n",
      "fit_q4 114\n",
      "costi_q4: 12530\n",
      "108\n",
      "boat_add_q4 32\n",
      "operator_add_q4 228\n",
      "maintain_operator_q4 436\n",
      "maintain_boat_q4 0\n",
      "fit_q4 240\n",
      "costi_q4: 28840\n",
      "109\n",
      "boat_add_q4 0\n",
      "operator_add_q4 0\n",
      "maintain_operator_q4 548\n",
      "maintain_boat_q4 0\n",
      "fit_q4 0\n",
      "costi_q4: 2740\n",
      "110\n",
      "boat_add_q4 20\n",
      "operator_add_q4 0\n",
      "maintain_operator_q4 548\n",
      "maintain_boat_q4 0\n",
      "fit_q4 0\n",
      "costi_q4: 6240\n",
      "111\n",
      "boat_add_q4 0\n",
      "operator_add_q4 0\n",
      "maintain_operator_q4 504\n",
      "maintain_boat_q4 9\n",
      "fit_q4 0\n",
      "costi_q4: 2610\n",
      "112\n",
      "boat_add_q4 0\n",
      "operator_add_q4 0\n",
      "maintain_operator_q4 468\n",
      "maintain_boat_q4 0\n",
      "fit_q4 0\n",
      "costi_q4: 2340\n"
     ]
    }
   ],
   "source": [
    "for i in range(8):\n",
    "    print(i+105)\n",
    "    print('boat_add_q4',boat_add_q4[i])\n",
    "    print('operator_add_q4',operator_add_q4[i])\n",
    "    print('maintain_operator_q4',maintain_operator_q4[i])\n",
    "    print('maintain_boat_q4',maintain_boat_q4[i])    \n",
    "    print('fit_q4',fit_q4[i])\n",
    "    # print('costi1_q4',costi1_q4[i])\n",
    "    # print('costi2_q4',costi2_q4[i])\n",
    "    print('costi_q4:',costi1_q4[i]+costi2_q4[i])"
   ]
  }
 ],
 "metadata": {
  "interpreter": {
   "hash": "f5bd28ee32a81f75b587c4a5c9ba5abfdf032b3105de37173de2ab9e920c5085"
  },
  "kernelspec": {
   "display_name": "Python 3.8.5 64-bit",
   "language": "python",
   "name": "python3"
  },
  "language_info": {
   "codemirror_mode": {
    "name": "ipython",
    "version": 3
   },
   "file_extension": ".py",
   "mimetype": "text/x-python",
   "name": "python",
   "nbconvert_exporter": "python",
   "pygments_lexer": "ipython3",
   "version": "3.8.5"
  },
  "orig_nbformat": 4
 },
 "nbformat": 4,
 "nbformat_minor": 2
}
